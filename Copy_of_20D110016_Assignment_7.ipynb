{
  "nbformat": 4,
  "nbformat_minor": 0,
  "metadata": {
    "colab": {
      "name": "Copy of 20D110016_Assignment_7.ipynb",
      "provenance": []
    },
    "kernelspec": {
      "name": "python3",
      "display_name": "Python 3"
    },
    "language_info": {
      "name": "python"
    }
  },
  "cells": [
    {
      "cell_type": "markdown",
      "metadata": {
        "id": "UOPRNXCFsHkN"
      },
      "source": [
        "## **Assignment 7**"
      ]
    },
    {
      "cell_type": "code",
      "metadata": {
        "colab": {
          "base_uri": "https://localhost:8080/"
        },
        "id": "gth_fsQjtDwx",
        "outputId": "45cee13f-0ae3-4d7b-bff3-d02973be5de7"
      },
      "source": [
        "from google.colab import drive \n",
        "drive.mount('/content/gdrive')"
      ],
      "execution_count": null,
      "outputs": [
        {
          "output_type": "stream",
          "name": "stdout",
          "text": [
            "Mounted at /content/gdrive\n"
          ]
        }
      ]
    },
    {
      "cell_type": "code",
      "metadata": {
        "colab": {
          "base_uri": "https://localhost:8080/"
        },
        "id": "gCHFxYOYtX8N",
        "outputId": "3d1ab5fb-7913-4734-ee10-530f89fe2165"
      },
      "source": [
        "cd /content/drive/MyDrive"
      ],
      "execution_count": null,
      "outputs": [
        {
          "output_type": "stream",
          "name": "stdout",
          "text": [
            "/content/drive/MyDrive\n"
          ]
        }
      ]
    },
    {
      "cell_type": "code",
      "metadata": {
        "id": "HTKILHfBtbzA"
      },
      "source": [
        "#importing Liabraries\n",
        "import numpy as np\n",
        "import pandas as pd\n",
        "import matplotlib.pyplot as plt\n",
        "import seaborn as sns\n",
        "from sklearn.model_selection import train_test_split\n",
        "from sklearn.metrics import mean_squared_error, mean_absolute_error, r2_score\n",
        "from sklearn.model_selection import GridSearchCV\n",
        "from sklearn.linear_model import ElasticNet\n",
        "import statsmodels\n",
        "import statsmodels.api as sm\n",
        "import statsmodels.stats.api as sms\n",
        "from statsmodels.tools.eval_measures import rmse\n",
        "from statsmodels.compat import lzip\n",
        "from statsmodels.graphics.gofplots import ProbPlot\n",
        "from scipy.stats import f_oneway\n",
        "from scipy.stats import jarque_bera\n",
        "from scipy import stats\n",
        "from sklearn.tree import DecisionTreeRegressor\n",
        "from sklearn.model_selection import train_test_split\n",
        "from statsmodels.stats.outliers_influence import variance_inflation_factor\n",
        "from sklearn.metrics import f1_score"
      ],
      "execution_count": null,
      "outputs": []
    },
    {
      "cell_type": "markdown",
      "metadata": {
        "id": "H_NGi-7rrdza"
      },
      "source": [
        "## Question 1\n",
        "\n",
        "a) \n",
        "Dimension Reduction<br>\n",
        "input : Grades of 50 courses<br>\n",
        "output : Most 5 useful numbers <br>\n",
        "b) Clustering<br>\n",
        "input : Performance in various courses and extra-curricular activities<br>\n",
        "ouput : Personality Groups <br>\n",
        "c) Regression<br>\n",
        "input : Performance in various courses, extra-curricular activities, and first job type<br>\n",
        "output : Salary <br>\n",
        "d) Classification<br>\n",
        "input : Performance in various courses and extra-curricular activities<br>\n",
        "output : Job type <br>"
      ]
    },
    {
      "cell_type": "markdown",
      "metadata": {
        "id": "Dlc26eI-Ow7X"
      },
      "source": [
        "## Question 2"
      ]
    },
    {
      "cell_type": "markdown",
      "metadata": {
        "id": "wkGMcAz5poZ8"
      },
      "source": [
        "| Problem | Framework | Target output variable type | Parameters | Hyper- parameters and their typical value range | Scikit-learn commands for defining, training, and testing\n",
        "| -- | -- | -- | -- | -- | -- |\n",
        "|Classification | SVM-C with Gaussian Kernel | One hot encoding - Usually integers  {0,1} or {-1,1} representing labels | 1.Support vectors equation parameters - w,b<br> 2. kernel, max_iter, weights | 1. C (regularization)(from 10^-5 to 10^5), gamma (0.00001 to 1), degree (1 to 10) <br >2.Slack variable and constant C in soft margin SVM <br> 3.Width of Gaussian kernel | sklearn.svm.SVC(), fit(X,y), predict(), score() |\n",
        "| Regression | SVM-R with Gaussian kernel | floating point | 1.Support vectors equation parameters - w,b<br> 2.kernel, max_iter, weights | 1.degree (1 to 10), gamma (0.00001 to 1), C (regularization)(from 10^-5 to 10^5) <br> 2.Slack variable and constant C in soft margin SVM <br> 3.Width of Gaussian kernel | sklearn.svm.SVR(), fit(X,y), predict(), score() |\n",
        "| Classification | NN with one hidden layer | One hot encoding - Usually integers  {0,1} or {-1,1} representing labels | 1.Parameters w,b in z = wx +b <br> 2. weights, activation, solver, max_iter | 1.No. of units in hidden layer and learning rate <br> 2. hidden_layer_sizes (1 to 10^5), learning rate (0.00001 to 0.1), regularization (10^-5 to 10^5) | sklearn.neural_network.MLPClassifier(), fit(X,y), predict(), score() |\n",
        "| Regression | NN with one hidden layer | floating point |1.Parameters w,b in z = wx +b <br> 2.  weights, activation, solver, max_iter | 1.No. of units in hidden layer and learning rate <br> 2. hidden_layer_sizes (1 to 10^5), learning rate (0.00001 to 0.1), regularization (10^-5 to 10^5) | sklearn.neural_network.MLPRegressor(), fit(X,y), predict(), score() |\n",
        "| Classification | Random forest | 1. One hot encoding - Usually integers  {0,1} or {-1,1} representing labels  | 1.criterion, max_depth<br> 2.NA |1. n_estimators (10 to 10000), min_samples_split(2 to 10)<br>2.Choosing criteria entropy /gini index ;max depth of trees | 1.sklearn.ensemble.RandomForestClassifier(), fit(), predict(), score() <br> 2.tree.DecisionTreeClassifier(),fit(X,y),predict() |\n",
        "| Regression | Random forest | floating point | 1.NA <br> 2.criterion, max_depth | 1. n_estimators (10 to 10000), min_samples_split(2 to 10) <br> 2.Choosing criteria entropy /gini index ;max depth of trees|1.sklearn.ensemble.RandomForestRegressor(), fit(), predict(), score()<br>2.tree.DecisionTreeRegressor(),fit(X,y),predict() |\n",
        "| Clustering | k-means | 1.List of cluster labels for each point <br> 2.None | 1.init, n_init, algorithm <br> 2.NA |1.No. of clusters <br> 2. n_clusters(2 to 10), max_iter (100 to 1000)|sklearn.cluster.KMeans(), fit(X), score(),.labels|\n",
        "| Clustering | DBSCAN |1.List of cluster labels for each point<br> 2. metric, algorithm, n_jobs |1.epsilon,minimum no. of points | eps (0.01 to 1), min_samples | sklearn.cluster.DBSCAN(), fit(), score(),labels|\n",
        "| Dimension reduction | PCA |1.Eigen vectors - Real no.s <br> 2. None | Gram matrix , svd_solver | 1.K-no. of dimensions in reduced dataset <br> 2.n_components (depends on number of features in dataset) | sklearn.decomposition.PCA(), fit(X), score() |\n",
        "| Dimension reduction | Kernel PCA |1.Eigen vectors - Real no.s <br> 2. None | Gram matrix - kernel, fit_inverse_transform |1.Choosing suitable kernel parameters & no. of components <br> 2.n_components (depends on number of features), max_iter (100 to 1000), gamma (0.01 to 10) | a = sklearn.decomposition.KernelPCA(),b = a.fit_transform(X)\n",
        "\n"
      ]
    },
    {
      "cell_type": "markdown",
      "metadata": {
        "id": "PN5fiogysMeA"
      },
      "source": [
        "## Question 3"
      ]
    },
    {
      "cell_type": "code",
      "metadata": {
        "id": "Cbvre6t0rv2J"
      },
      "source": [
        "# reading csv file with pd.read_csv\n",
        "df=pd.read_csv('/content/drive/MyDrive/SeoulBikeData.csv',skiprows=1)"
      ],
      "execution_count": null,
      "outputs": []
    },
    {
      "cell_type": "code",
      "metadata": {
        "colab": {
          "base_uri": "https://localhost:8080/",
          "height": 341
        },
        "id": "pbW1m_lxwRkG",
        "outputId": "7fd28c33-df2c-472d-eca1-17a2950aad4d"
      },
      "source": [
        "#Defining coloum headers for the data\n",
        "cols = ['Date','Rented Bike Count',\t'Hour'\t,'Temperature(°C)'\t,'Humidity(%)'\t,'Wind speed (m/s)',\t'Visibility (10m)',\t\n",
        "        'Dew point temperature(°C)'\t,'Solar Radiation (MJ/m2)',\t'Rainfall(mm)'\t,'Snowfall (cm)',\t'Seasons','Holiday'\t,'Functioning Day']\n",
        "df.columns = cols\n",
        "df.head()"
      ],
      "execution_count": null,
      "outputs": [
        {
          "output_type": "execute_result",
          "data": {
            "text/html": [
              "<div>\n",
              "<style scoped>\n",
              "    .dataframe tbody tr th:only-of-type {\n",
              "        vertical-align: middle;\n",
              "    }\n",
              "\n",
              "    .dataframe tbody tr th {\n",
              "        vertical-align: top;\n",
              "    }\n",
              "\n",
              "    .dataframe thead th {\n",
              "        text-align: right;\n",
              "    }\n",
              "</style>\n",
              "<table border=\"1\" class=\"dataframe\">\n",
              "  <thead>\n",
              "    <tr style=\"text-align: right;\">\n",
              "      <th></th>\n",
              "      <th>Date</th>\n",
              "      <th>Rented Bike Count</th>\n",
              "      <th>Hour</th>\n",
              "      <th>Temperature(°C)</th>\n",
              "      <th>Humidity(%)</th>\n",
              "      <th>Wind speed (m/s)</th>\n",
              "      <th>Visibility (10m)</th>\n",
              "      <th>Dew point temperature(°C)</th>\n",
              "      <th>Solar Radiation (MJ/m2)</th>\n",
              "      <th>Rainfall(mm)</th>\n",
              "      <th>Snowfall (cm)</th>\n",
              "      <th>Seasons</th>\n",
              "      <th>Holiday</th>\n",
              "      <th>Functioning Day</th>\n",
              "    </tr>\n",
              "  </thead>\n",
              "  <tbody>\n",
              "    <tr>\n",
              "      <th>0</th>\n",
              "      <td>01/12/2017</td>\n",
              "      <td>204</td>\n",
              "      <td>1</td>\n",
              "      <td>-5.5</td>\n",
              "      <td>38</td>\n",
              "      <td>0.8</td>\n",
              "      <td>2000</td>\n",
              "      <td>-17.6</td>\n",
              "      <td>0.0</td>\n",
              "      <td>0.0</td>\n",
              "      <td>0.0</td>\n",
              "      <td>Winter</td>\n",
              "      <td>No Holiday</td>\n",
              "      <td>Yes</td>\n",
              "    </tr>\n",
              "    <tr>\n",
              "      <th>1</th>\n",
              "      <td>01/12/2017</td>\n",
              "      <td>173</td>\n",
              "      <td>2</td>\n",
              "      <td>-6.0</td>\n",
              "      <td>39</td>\n",
              "      <td>1.0</td>\n",
              "      <td>2000</td>\n",
              "      <td>-17.7</td>\n",
              "      <td>0.0</td>\n",
              "      <td>0.0</td>\n",
              "      <td>0.0</td>\n",
              "      <td>Winter</td>\n",
              "      <td>No Holiday</td>\n",
              "      <td>Yes</td>\n",
              "    </tr>\n",
              "    <tr>\n",
              "      <th>2</th>\n",
              "      <td>01/12/2017</td>\n",
              "      <td>107</td>\n",
              "      <td>3</td>\n",
              "      <td>-6.2</td>\n",
              "      <td>40</td>\n",
              "      <td>0.9</td>\n",
              "      <td>2000</td>\n",
              "      <td>-17.6</td>\n",
              "      <td>0.0</td>\n",
              "      <td>0.0</td>\n",
              "      <td>0.0</td>\n",
              "      <td>Winter</td>\n",
              "      <td>No Holiday</td>\n",
              "      <td>Yes</td>\n",
              "    </tr>\n",
              "    <tr>\n",
              "      <th>3</th>\n",
              "      <td>01/12/2017</td>\n",
              "      <td>78</td>\n",
              "      <td>4</td>\n",
              "      <td>-6.0</td>\n",
              "      <td>36</td>\n",
              "      <td>2.3</td>\n",
              "      <td>2000</td>\n",
              "      <td>-18.6</td>\n",
              "      <td>0.0</td>\n",
              "      <td>0.0</td>\n",
              "      <td>0.0</td>\n",
              "      <td>Winter</td>\n",
              "      <td>No Holiday</td>\n",
              "      <td>Yes</td>\n",
              "    </tr>\n",
              "    <tr>\n",
              "      <th>4</th>\n",
              "      <td>01/12/2017</td>\n",
              "      <td>100</td>\n",
              "      <td>5</td>\n",
              "      <td>-6.4</td>\n",
              "      <td>37</td>\n",
              "      <td>1.5</td>\n",
              "      <td>2000</td>\n",
              "      <td>-18.7</td>\n",
              "      <td>0.0</td>\n",
              "      <td>0.0</td>\n",
              "      <td>0.0</td>\n",
              "      <td>Winter</td>\n",
              "      <td>No Holiday</td>\n",
              "      <td>Yes</td>\n",
              "    </tr>\n",
              "  </tbody>\n",
              "</table>\n",
              "</div>"
            ],
            "text/plain": [
              "         Date  Rented Bike Count  Hour  ...  Seasons     Holiday  Functioning Day\n",
              "0  01/12/2017                204     1  ...   Winter  No Holiday              Yes\n",
              "1  01/12/2017                173     2  ...   Winter  No Holiday              Yes\n",
              "2  01/12/2017                107     3  ...   Winter  No Holiday              Yes\n",
              "3  01/12/2017                 78     4  ...   Winter  No Holiday              Yes\n",
              "4  01/12/2017                100     5  ...   Winter  No Holiday              Yes\n",
              "\n",
              "[5 rows x 14 columns]"
            ]
          },
          "metadata": {},
          "execution_count": 119
        }
      ]
    },
    {
      "cell_type": "code",
      "metadata": {
        "colab": {
          "base_uri": "https://localhost:8080/"
        },
        "id": "mdyNJSoOwcB1",
        "outputId": "8c55c175-27c6-427b-95e6-d899e14ae858"
      },
      "source": [
        "df['Rented Bike Count'].value_counts()\n"
      ],
      "execution_count": null,
      "outputs": [
        {
          "output_type": "execute_result",
          "data": {
            "text/plain": [
              "0       295\n",
              "122      19\n",
              "223      19\n",
              "262      19\n",
              "103      18\n",
              "       ... \n",
              "2379      1\n",
              "1589      1\n",
              "1597      1\n",
              "1605      1\n",
              "2047      1\n",
              "Name: Rented Bike Count, Length: 2166, dtype: int64"
            ]
          },
          "metadata": {},
          "execution_count": 120
        }
      ]
    },
    {
      "cell_type": "code",
      "metadata": {
        "colab": {
          "base_uri": "https://localhost:8080/",
          "height": 257
        },
        "id": "njhVJ4E5xVDl",
        "outputId": "90ee4548-0d1d-4318-e0b4-b176ef2a343e"
      },
      "source": [
        "data = df.copy()\n",
        "label_Seasons = data['Seasons'][data['Seasons'].duplicated()==False]\n",
        "data['Seasons'] = data['Seasons'].replace(list(label_Seasons),range(len(label_Seasons)))\n",
        "label_Holiday = data['Holiday'][data['Holiday'].duplicated()==False]\n",
        "data['Holiday'] = data['Holiday'].replace(list(label_Holiday),range(len(label_Holiday)))\n",
        "label_functioning_day = data['Functioning Day'][data['Functioning Day'].duplicated()==False]\n",
        "data['Functioning Day'] = data['Functioning Day'].replace(list(label_functioning_day),range(len(label_functioning_day)))\n",
        "data = data.drop(columns=['Date'])\n",
        "#data = data.drop(columns=['Dew point temperature(°C)'])\n",
        "data.head()"
      ],
      "execution_count": null,
      "outputs": [
        {
          "output_type": "execute_result",
          "data": {
            "text/html": [
              "<div>\n",
              "<style scoped>\n",
              "    .dataframe tbody tr th:only-of-type {\n",
              "        vertical-align: middle;\n",
              "    }\n",
              "\n",
              "    .dataframe tbody tr th {\n",
              "        vertical-align: top;\n",
              "    }\n",
              "\n",
              "    .dataframe thead th {\n",
              "        text-align: right;\n",
              "    }\n",
              "</style>\n",
              "<table border=\"1\" class=\"dataframe\">\n",
              "  <thead>\n",
              "    <tr style=\"text-align: right;\">\n",
              "      <th></th>\n",
              "      <th>Rented Bike Count</th>\n",
              "      <th>Hour</th>\n",
              "      <th>Temperature(°C)</th>\n",
              "      <th>Humidity(%)</th>\n",
              "      <th>Wind speed (m/s)</th>\n",
              "      <th>Visibility (10m)</th>\n",
              "      <th>Dew point temperature(°C)</th>\n",
              "      <th>Solar Radiation (MJ/m2)</th>\n",
              "      <th>Rainfall(mm)</th>\n",
              "      <th>Snowfall (cm)</th>\n",
              "      <th>Seasons</th>\n",
              "      <th>Holiday</th>\n",
              "      <th>Functioning Day</th>\n",
              "    </tr>\n",
              "  </thead>\n",
              "  <tbody>\n",
              "    <tr>\n",
              "      <th>0</th>\n",
              "      <td>204</td>\n",
              "      <td>1</td>\n",
              "      <td>-5.5</td>\n",
              "      <td>38</td>\n",
              "      <td>0.8</td>\n",
              "      <td>2000</td>\n",
              "      <td>-17.6</td>\n",
              "      <td>0.0</td>\n",
              "      <td>0.0</td>\n",
              "      <td>0.0</td>\n",
              "      <td>0</td>\n",
              "      <td>0</td>\n",
              "      <td>0</td>\n",
              "    </tr>\n",
              "    <tr>\n",
              "      <th>1</th>\n",
              "      <td>173</td>\n",
              "      <td>2</td>\n",
              "      <td>-6.0</td>\n",
              "      <td>39</td>\n",
              "      <td>1.0</td>\n",
              "      <td>2000</td>\n",
              "      <td>-17.7</td>\n",
              "      <td>0.0</td>\n",
              "      <td>0.0</td>\n",
              "      <td>0.0</td>\n",
              "      <td>0</td>\n",
              "      <td>0</td>\n",
              "      <td>0</td>\n",
              "    </tr>\n",
              "    <tr>\n",
              "      <th>2</th>\n",
              "      <td>107</td>\n",
              "      <td>3</td>\n",
              "      <td>-6.2</td>\n",
              "      <td>40</td>\n",
              "      <td>0.9</td>\n",
              "      <td>2000</td>\n",
              "      <td>-17.6</td>\n",
              "      <td>0.0</td>\n",
              "      <td>0.0</td>\n",
              "      <td>0.0</td>\n",
              "      <td>0</td>\n",
              "      <td>0</td>\n",
              "      <td>0</td>\n",
              "    </tr>\n",
              "    <tr>\n",
              "      <th>3</th>\n",
              "      <td>78</td>\n",
              "      <td>4</td>\n",
              "      <td>-6.0</td>\n",
              "      <td>36</td>\n",
              "      <td>2.3</td>\n",
              "      <td>2000</td>\n",
              "      <td>-18.6</td>\n",
              "      <td>0.0</td>\n",
              "      <td>0.0</td>\n",
              "      <td>0.0</td>\n",
              "      <td>0</td>\n",
              "      <td>0</td>\n",
              "      <td>0</td>\n",
              "    </tr>\n",
              "    <tr>\n",
              "      <th>4</th>\n",
              "      <td>100</td>\n",
              "      <td>5</td>\n",
              "      <td>-6.4</td>\n",
              "      <td>37</td>\n",
              "      <td>1.5</td>\n",
              "      <td>2000</td>\n",
              "      <td>-18.7</td>\n",
              "      <td>0.0</td>\n",
              "      <td>0.0</td>\n",
              "      <td>0.0</td>\n",
              "      <td>0</td>\n",
              "      <td>0</td>\n",
              "      <td>0</td>\n",
              "    </tr>\n",
              "  </tbody>\n",
              "</table>\n",
              "</div>"
            ],
            "text/plain": [
              "   Rented Bike Count  Hour  Temperature(°C)  ...  Seasons  Holiday  Functioning Day\n",
              "0                204     1             -5.5  ...        0        0                0\n",
              "1                173     2             -6.0  ...        0        0                0\n",
              "2                107     3             -6.2  ...        0        0                0\n",
              "3                 78     4             -6.0  ...        0        0                0\n",
              "4                100     5             -6.4  ...        0        0                0\n",
              "\n",
              "[5 rows x 13 columns]"
            ]
          },
          "metadata": {},
          "execution_count": 121
        }
      ]
    },
    {
      "cell_type": "code",
      "metadata": {
        "colab": {
          "base_uri": "https://localhost:8080/",
          "height": 1000
        },
        "id": "hmJwEIslxZw5",
        "outputId": "1716e9d2-26f5-4f9b-a457-a3f96973137c"
      },
      "source": [
        "for feature in data.columns:\n",
        "    sns.regplot(x=feature,y='Rented Bike Count',data=data)\n",
        "    plt.xlabel(feature)\n",
        "    plt.show()\n",
        "    "
      ],
      "execution_count": null,
      "outputs": [
        {
          "output_type": "display_data",
          "data": {
            "image/png": "[encoded data removed]",
            "text/plain": [
              "<Figure size 432x288 with 1 Axes>"
            ]
          },
          "metadata": {
            "needs_background": "light"
          }
        },
        {
          "output_type": "display_data",
          "data": {
            "image/png": "[encoded data removed]",
            "text/plain": [
              "<Figure size 432x288 with 1 Axes>"
            ]
          },
          "metadata": {
            "needs_background": "light"
          }
        },
        {
          "output_type": "display_data",
          "data": {
            "image/png": "[encoded data removed]",
            "text/plain": [
              "<Figure size 432x288 with 1 Axes>"
            ]
          },
          "metadata": {
            "needs_background": "light"
          }
        },
        {
          "output_type": "display_data",
          "data": {
            "image/png": "[encoded data removed]",
            "text/plain": [
              "<Figure size 432x288 with 1 Axes>"
            ]
          },
          "metadata": {
            "needs_background": "light"
          }
        },
        {
          "output_type": "display_data",
          "data": {
            "image/png": "[encoded data removed]",
            "text/plain": [
              "<Figure size 432x288 with 1 Axes>"
            ]
          },
          "metadata": {
            "needs_background": "light"
          }
        },
        {
          "output_type": "display_data",
          "data": {
            "image/png": "[encoded data removed]",
            "text/plain": [
              "<Figure size 432x288 with 1 Axes>"
            ]
          },
          "metadata": {
            "needs_background": "light"
          }
        },
        {
          "output_type": "display_data",
          "data": {
            "image/png": "[encoded data removed]",
            "text/plain": [
              "<Figure size 432x288 with 1 Axes>"
            ]
          },
          "metadata": {
            "needs_background": "light"
          }
        },
        {
          "output_type": "display_data",
          "data": {
            "image/png": "[encoded data removed]",
            "text/plain": [
              "<Figure size 432x288 with 1 Axes>"
            ]
          },
          "metadata": {
            "needs_background": "light"
          }
        },
        {
          "output_type": "display_data",
          "data": {
            "image/png": "[encoded data removed]",
            "text/plain": [
              "<Figure size 432x288 with 1 Axes>"
            ]
          },
          "metadata": {
            "needs_background": "light"
          }
        },
        {
          "output_type": "display_data",
          "data": {
            "image/png": "[encoded data removed]",
            "text/plain": [
              "<Figure size 432x288 with 1 Axes>"
            ]
          },
          "metadata": {
            "needs_background": "light"
          }
        },
        {
          "output_type": "display_data",
          "data": {
            "image/png": "[encoded data removed]",
            "text/plain": [
              "<Figure size 432x288 with 1 Axes>"
            ]
          },
          "metadata": {
            "needs_background": "light"
          }
        },
        {
          "output_type": "display_data",
          "data": {
            "image/png": "[encoded data removed]",
            "text/plain": [
              "<Figure size 432x288 with 1 Axes>"
            ]
          },
          "metadata": {
            "needs_background": "light"
          }
        },
        {
          "output_type": "display_data",
          "data": {
            "image/png": "[encoded data removed]",
            "text/plain": [
              "<Figure size 432x288 with 1 Axes>"
            ]
          },
          "metadata": {
            "needs_background": "light"
          }
        }
      ]
    },
    {
      "cell_type": "code",
      "metadata": {
        "colab": {
          "base_uri": "https://localhost:8080/",
          "height": 676
        },
        "id": "bUf5rCtHSmWS",
        "outputId": "e8909486-6d77-4aba-f756-d25b05221ead"
      },
      "source": [
        "plt.figure(figsize=(10,10))\n",
        "sns.heatmap(data.corr(),annot=True)\n",
        "plt.show()"
      ],
      "execution_count": null,
      "outputs": [
        {
          "output_type": "display_data",
          "data": {
            "image/png": "[encoded data removed]",
            "text/plain": [
              "<Figure size 720x720 with 2 Axes>"
            ]
          },
          "metadata": {
            "needs_background": "light"
          }
        }
      ]
    },
    {
      "cell_type": "markdown",
      "metadata": {
        "id": "GLPwGEfFSzdJ"
      },
      "source": [
        "Varaibles seems fine to predict the output variable as seen by coorelation plot."
      ]
    },
    {
      "cell_type": "code",
      "metadata": {
        "colab": {
          "base_uri": "https://localhost:8080/",
          "height": 388
        },
        "id": "i2I4jOtjSpOz",
        "outputId": "45beaf50-b934-40d7-fc71-1bfef4924078"
      },
      "source": [
        "df2 = data.copy()\n",
        "df2 = df2.drop(columns=['Dew point temperature(°C)']) \n",
        "xtrain,xtest,ytrain,ytest = train_test_split(df2.iloc[:,1:],df2.iloc[:,0],test_size=0.2)\n",
        "vif=pd.DataFrame()\n",
        "vif['VIF']=[variance_inflation_factor(xtrain.values,i) for i in range(xtrain.shape[1])]   \n",
        "vif['features']=xtrain.columns\n",
        "vif.sort_values('VIF',ascending=False)"
      ],
      "execution_count": null,
      "outputs": [
        {
          "output_type": "execute_result",
          "data": {
            "text/html": [
              "<div>\n",
              "<style scoped>\n",
              "    .dataframe tbody tr th:only-of-type {\n",
              "        vertical-align: middle;\n",
              "    }\n",
              "\n",
              "    .dataframe tbody tr th {\n",
              "        vertical-align: top;\n",
              "    }\n",
              "\n",
              "    .dataframe thead th {\n",
              "        text-align: right;\n",
              "    }\n",
              "</style>\n",
              "<table border=\"1\" class=\"dataframe\">\n",
              "  <thead>\n",
              "    <tr style=\"text-align: right;\">\n",
              "      <th></th>\n",
              "      <th>VIF</th>\n",
              "      <th>features</th>\n",
              "    </tr>\n",
              "  </thead>\n",
              "  <tbody>\n",
              "    <tr>\n",
              "      <th>2</th>\n",
              "      <td>5.363867</td>\n",
              "      <td>Humidity(%)</td>\n",
              "    </tr>\n",
              "    <tr>\n",
              "      <th>4</th>\n",
              "      <td>5.279887</td>\n",
              "      <td>Visibility (10m)</td>\n",
              "    </tr>\n",
              "    <tr>\n",
              "      <th>8</th>\n",
              "      <td>4.980409</td>\n",
              "      <td>Seasons</td>\n",
              "    </tr>\n",
              "    <tr>\n",
              "      <th>3</th>\n",
              "      <td>4.692458</td>\n",
              "      <td>Wind speed (m/s)</td>\n",
              "    </tr>\n",
              "    <tr>\n",
              "      <th>1</th>\n",
              "      <td>4.374024</td>\n",
              "      <td>Temperature(°C)</td>\n",
              "    </tr>\n",
              "    <tr>\n",
              "      <th>0</th>\n",
              "      <td>3.925788</td>\n",
              "      <td>Hour</td>\n",
              "    </tr>\n",
              "    <tr>\n",
              "      <th>5</th>\n",
              "      <td>2.269244</td>\n",
              "      <td>Solar Radiation (MJ/m2)</td>\n",
              "    </tr>\n",
              "    <tr>\n",
              "      <th>7</th>\n",
              "      <td>1.118431</td>\n",
              "      <td>Snowfall (cm)</td>\n",
              "    </tr>\n",
              "    <tr>\n",
              "      <th>10</th>\n",
              "      <td>1.091398</td>\n",
              "      <td>Functioning Day</td>\n",
              "    </tr>\n",
              "    <tr>\n",
              "      <th>6</th>\n",
              "      <td>1.076766</td>\n",
              "      <td>Rainfall(mm)</td>\n",
              "    </tr>\n",
              "    <tr>\n",
              "      <th>9</th>\n",
              "      <td>1.060739</td>\n",
              "      <td>Holiday</td>\n",
              "    </tr>\n",
              "  </tbody>\n",
              "</table>\n",
              "</div>"
            ],
            "text/plain": [
              "         VIF                 features\n",
              "2   5.363867              Humidity(%)\n",
              "4   5.279887         Visibility (10m)\n",
              "8   4.980409                  Seasons\n",
              "3   4.692458         Wind speed (m/s)\n",
              "1   4.374024          Temperature(°C)\n",
              "0   3.925788                     Hour\n",
              "5   2.269244  Solar Radiation (MJ/m2)\n",
              "7   1.118431            Snowfall (cm)\n",
              "10  1.091398          Functioning Day\n",
              "6   1.076766             Rainfall(mm)\n",
              "9   1.060739                  Holiday"
            ]
          },
          "metadata": {},
          "execution_count": 124
        }
      ]
    },
    {
      "cell_type": "markdown",
      "metadata": {
        "id": "6LnR0r0JUm9D"
      },
      "source": [
        "We generally drop variables with VIF>10 but as can be seen in heatmap of correlations, temperature is most related to the target variable so keeping it and dropping Dew point temperature(°C)"
      ]
    },
    {
      "cell_type": "code",
      "metadata": {
        "id": "EI06-og6UkJR"
      },
      "source": [
        "score_c=pd.DataFrame()\n",
        "df3=data.copy()\n",
        "df3=df3.drop(columns=['Dew point temperature(°C)'])"
      ],
      "execution_count": null,
      "outputs": []
    },
    {
      "cell_type": "code",
      "metadata": {
        "colab": {
          "base_uri": "https://localhost:8080/"
        },
        "id": "78CSbBKTVDKh",
        "outputId": "e4d765f5-f71a-4ef6-d8b6-4f2225c78e2b"
      },
      "source": [
        "xtrain,xtest,ytrain,ytest = train_test_split(df3.iloc[:,1:],df3.iloc[:,0],test_size=0.2)\n",
        "dtr = DecisionTreeRegressor().fit(xtrain,ytrain)\n",
        "print(dtr.score(xtrain,ytrain))\n",
        "print(dtr.score(xtest,ytest))"
      ],
      "execution_count": null,
      "outputs": [
        {
          "output_type": "stream",
          "name": "stdout",
          "text": [
            "1.0\n",
            "0.7418703754585371\n"
          ]
        }
      ]
    },
    {
      "cell_type": "code",
      "metadata": {
        "colab": {
          "base_uri": "https://localhost:8080/",
          "height": 80
        },
        "id": "eTF7WsCjVOem",
        "outputId": "1e332f8b-f618-4d70-f090-37d0e3466710"
      },
      "source": [
        "y_pred = dtr.predict(xtest)\n",
        "from sklearn.metrics import r2_score,mean_squared_error\n",
        "from statsmodels.tools.eval_measures import rmse\n",
        "\n",
        "#rmse\n",
        "rmse=np.sqrt(mean_squared_error(ytest,y_pred))\n",
        "#r2_score\n",
        "r2=r2_score(ytest,y_pred)\n",
        "Dtree_notOneHot_NotNormalized_noValidation = pd.Series({\n",
        "                     'Model_Name': \"Dtree_notOneHot_NotNormalized_noValidation\",\n",
        "                     'RMSE':rmse,\n",
        "                     'R-Squared':r2 ,\n",
        "                   })\n",
        "\n",
        "score_c = score_c.append(Dtree_notOneHot_NotNormalized_noValidation, ignore_index=True)\n",
        "\n",
        "score_c"
      ],
      "execution_count": null,
      "outputs": [
        {
          "output_type": "execute_result",
          "data": {
            "text/html": [
              "<div>\n",
              "<style scoped>\n",
              "    .dataframe tbody tr th:only-of-type {\n",
              "        vertical-align: middle;\n",
              "    }\n",
              "\n",
              "    .dataframe tbody tr th {\n",
              "        vertical-align: top;\n",
              "    }\n",
              "\n",
              "    .dataframe thead th {\n",
              "        text-align: right;\n",
              "    }\n",
              "</style>\n",
              "<table border=\"1\" class=\"dataframe\">\n",
              "  <thead>\n",
              "    <tr style=\"text-align: right;\">\n",
              "      <th></th>\n",
              "      <th>Model_Name</th>\n",
              "      <th>R-Squared</th>\n",
              "      <th>RMSE</th>\n",
              "    </tr>\n",
              "  </thead>\n",
              "  <tbody>\n",
              "    <tr>\n",
              "      <th>0</th>\n",
              "      <td>Dtree_notOneHot_NotNormalized_noValidation</td>\n",
              "      <td>0.74187</td>\n",
              "      <td>324.290558</td>\n",
              "    </tr>\n",
              "  </tbody>\n",
              "</table>\n",
              "</div>"
            ],
            "text/plain": [
              "                                   Model_Name  R-Squared        RMSE\n",
              "0  Dtree_notOneHot_NotNormalized_noValidation    0.74187  324.290558"
            ]
          },
          "metadata": {},
          "execution_count": 127
        }
      ]
    },
    {
      "cell_type": "code",
      "metadata": {
        "colab": {
          "base_uri": "https://localhost:8080/",
          "height": 257
        },
        "id": "pQiiBSLnqhBn",
        "outputId": "4f46d2d7-9cb8-4e5f-a2d4-f9ea05c67bff"
      },
      "source": [
        "from sklearn import preprocessing\n",
        "min_max_scaler = preprocessing.MinMaxScaler()\n",
        "column_names_to_not_normalize = ['Rented Bike Count', 'Hour', 'Seasons', 'Holiday', 'Functioning Day']\n",
        "column_names_to_normalize = [x for x in list(df2) if x not in column_names_to_not_normalize ]\n",
        "x = df2[column_names_to_normalize].values\n",
        "x_scaled = min_max_scaler.fit_transform(x)\n",
        "df2_temp = pd.DataFrame(x_scaled, columns=column_names_to_normalize, index = df2.index)\n",
        "df2[column_names_to_normalize] = df2_temp\n",
        "df2.head()"
      ],
      "execution_count": null,
      "outputs": [
        {
          "output_type": "execute_result",
          "data": {
            "text/html": [
              "<div>\n",
              "<style scoped>\n",
              "    .dataframe tbody tr th:only-of-type {\n",
              "        vertical-align: middle;\n",
              "    }\n",
              "\n",
              "    .dataframe tbody tr th {\n",
              "        vertical-align: top;\n",
              "    }\n",
              "\n",
              "    .dataframe thead th {\n",
              "        text-align: right;\n",
              "    }\n",
              "</style>\n",
              "<table border=\"1\" class=\"dataframe\">\n",
              "  <thead>\n",
              "    <tr style=\"text-align: right;\">\n",
              "      <th></th>\n",
              "      <th>Rented Bike Count</th>\n",
              "      <th>Hour</th>\n",
              "      <th>Temperature(°C)</th>\n",
              "      <th>Humidity(%)</th>\n",
              "      <th>Wind speed (m/s)</th>\n",
              "      <th>Visibility (10m)</th>\n",
              "      <th>Solar Radiation (MJ/m2)</th>\n",
              "      <th>Rainfall(mm)</th>\n",
              "      <th>Snowfall (cm)</th>\n",
              "      <th>Seasons</th>\n",
              "      <th>Holiday</th>\n",
              "      <th>Functioning Day</th>\n",
              "    </tr>\n",
              "  </thead>\n",
              "  <tbody>\n",
              "    <tr>\n",
              "      <th>0</th>\n",
              "      <td>204</td>\n",
              "      <td>1</td>\n",
              "      <td>0.215035</td>\n",
              "      <td>0.387755</td>\n",
              "      <td>0.108108</td>\n",
              "      <td>1.0</td>\n",
              "      <td>0.0</td>\n",
              "      <td>0.0</td>\n",
              "      <td>0.0</td>\n",
              "      <td>0</td>\n",
              "      <td>0</td>\n",
              "      <td>0</td>\n",
              "    </tr>\n",
              "    <tr>\n",
              "      <th>1</th>\n",
              "      <td>173</td>\n",
              "      <td>2</td>\n",
              "      <td>0.206294</td>\n",
              "      <td>0.397959</td>\n",
              "      <td>0.135135</td>\n",
              "      <td>1.0</td>\n",
              "      <td>0.0</td>\n",
              "      <td>0.0</td>\n",
              "      <td>0.0</td>\n",
              "      <td>0</td>\n",
              "      <td>0</td>\n",
              "      <td>0</td>\n",
              "    </tr>\n",
              "    <tr>\n",
              "      <th>2</th>\n",
              "      <td>107</td>\n",
              "      <td>3</td>\n",
              "      <td>0.202797</td>\n",
              "      <td>0.408163</td>\n",
              "      <td>0.121622</td>\n",
              "      <td>1.0</td>\n",
              "      <td>0.0</td>\n",
              "      <td>0.0</td>\n",
              "      <td>0.0</td>\n",
              "      <td>0</td>\n",
              "      <td>0</td>\n",
              "      <td>0</td>\n",
              "    </tr>\n",
              "    <tr>\n",
              "      <th>3</th>\n",
              "      <td>78</td>\n",
              "      <td>4</td>\n",
              "      <td>0.206294</td>\n",
              "      <td>0.367347</td>\n",
              "      <td>0.310811</td>\n",
              "      <td>1.0</td>\n",
              "      <td>0.0</td>\n",
              "      <td>0.0</td>\n",
              "      <td>0.0</td>\n",
              "      <td>0</td>\n",
              "      <td>0</td>\n",
              "      <td>0</td>\n",
              "    </tr>\n",
              "    <tr>\n",
              "      <th>4</th>\n",
              "      <td>100</td>\n",
              "      <td>5</td>\n",
              "      <td>0.199301</td>\n",
              "      <td>0.377551</td>\n",
              "      <td>0.202703</td>\n",
              "      <td>1.0</td>\n",
              "      <td>0.0</td>\n",
              "      <td>0.0</td>\n",
              "      <td>0.0</td>\n",
              "      <td>0</td>\n",
              "      <td>0</td>\n",
              "      <td>0</td>\n",
              "    </tr>\n",
              "  </tbody>\n",
              "</table>\n",
              "</div>"
            ],
            "text/plain": [
              "   Rented Bike Count  Hour  Temperature(°C)  ...  Seasons  Holiday  Functioning Day\n",
              "0                204     1         0.215035  ...        0        0                0\n",
              "1                173     2         0.206294  ...        0        0                0\n",
              "2                107     3         0.202797  ...        0        0                0\n",
              "3                 78     4         0.206294  ...        0        0                0\n",
              "4                100     5         0.199301  ...        0        0                0\n",
              "\n",
              "[5 rows x 12 columns]"
            ]
          },
          "metadata": {},
          "execution_count": 128
        }
      ]
    },
    {
      "cell_type": "code",
      "metadata": {
        "colab": {
          "base_uri": "https://localhost:8080/",
          "height": 257
        },
        "id": "fDaWp5wCrdTc",
        "outputId": "77c7e975-1125-4d55-ff4f-b75e0691d74f"
      },
      "source": [
        "df3 = df2.copy()\n",
        "df4 = pd.get_dummies(df3, prefix=['Seasons', 'Holiday', 'Functioning Day'], columns=['Seasons', 'Holiday', 'Functioning Day'])\n",
        "df4.head()\n"
      ],
      "execution_count": null,
      "outputs": [
        {
          "output_type": "execute_result",
          "data": {
            "text/html": [
              "<div>\n",
              "<style scoped>\n",
              "    .dataframe tbody tr th:only-of-type {\n",
              "        vertical-align: middle;\n",
              "    }\n",
              "\n",
              "    .dataframe tbody tr th {\n",
              "        vertical-align: top;\n",
              "    }\n",
              "\n",
              "    .dataframe thead th {\n",
              "        text-align: right;\n",
              "    }\n",
              "</style>\n",
              "<table border=\"1\" class=\"dataframe\">\n",
              "  <thead>\n",
              "    <tr style=\"text-align: right;\">\n",
              "      <th></th>\n",
              "      <th>Rented Bike Count</th>\n",
              "      <th>Hour</th>\n",
              "      <th>Temperature(°C)</th>\n",
              "      <th>Humidity(%)</th>\n",
              "      <th>Wind speed (m/s)</th>\n",
              "      <th>Visibility (10m)</th>\n",
              "      <th>Solar Radiation (MJ/m2)</th>\n",
              "      <th>Rainfall(mm)</th>\n",
              "      <th>Snowfall (cm)</th>\n",
              "      <th>Seasons_0</th>\n",
              "      <th>Seasons_1</th>\n",
              "      <th>Seasons_2</th>\n",
              "      <th>Seasons_3</th>\n",
              "      <th>Holiday_0</th>\n",
              "      <th>Holiday_1</th>\n",
              "      <th>Functioning Day_0</th>\n",
              "      <th>Functioning Day_1</th>\n",
              "    </tr>\n",
              "  </thead>\n",
              "  <tbody>\n",
              "    <tr>\n",
              "      <th>0</th>\n",
              "      <td>204</td>\n",
              "      <td>1</td>\n",
              "      <td>0.215035</td>\n",
              "      <td>0.387755</td>\n",
              "      <td>0.108108</td>\n",
              "      <td>1.0</td>\n",
              "      <td>0.0</td>\n",
              "      <td>0.0</td>\n",
              "      <td>0.0</td>\n",
              "      <td>1</td>\n",
              "      <td>0</td>\n",
              "      <td>0</td>\n",
              "      <td>0</td>\n",
              "      <td>1</td>\n",
              "      <td>0</td>\n",
              "      <td>1</td>\n",
              "      <td>0</td>\n",
              "    </tr>\n",
              "    <tr>\n",
              "      <th>1</th>\n",
              "      <td>173</td>\n",
              "      <td>2</td>\n",
              "      <td>0.206294</td>\n",
              "      <td>0.397959</td>\n",
              "      <td>0.135135</td>\n",
              "      <td>1.0</td>\n",
              "      <td>0.0</td>\n",
              "      <td>0.0</td>\n",
              "      <td>0.0</td>\n",
              "      <td>1</td>\n",
              "      <td>0</td>\n",
              "      <td>0</td>\n",
              "      <td>0</td>\n",
              "      <td>1</td>\n",
              "      <td>0</td>\n",
              "      <td>1</td>\n",
              "      <td>0</td>\n",
              "    </tr>\n",
              "    <tr>\n",
              "      <th>2</th>\n",
              "      <td>107</td>\n",
              "      <td>3</td>\n",
              "      <td>0.202797</td>\n",
              "      <td>0.408163</td>\n",
              "      <td>0.121622</td>\n",
              "      <td>1.0</td>\n",
              "      <td>0.0</td>\n",
              "      <td>0.0</td>\n",
              "      <td>0.0</td>\n",
              "      <td>1</td>\n",
              "      <td>0</td>\n",
              "      <td>0</td>\n",
              "      <td>0</td>\n",
              "      <td>1</td>\n",
              "      <td>0</td>\n",
              "      <td>1</td>\n",
              "      <td>0</td>\n",
              "    </tr>\n",
              "    <tr>\n",
              "      <th>3</th>\n",
              "      <td>78</td>\n",
              "      <td>4</td>\n",
              "      <td>0.206294</td>\n",
              "      <td>0.367347</td>\n",
              "      <td>0.310811</td>\n",
              "      <td>1.0</td>\n",
              "      <td>0.0</td>\n",
              "      <td>0.0</td>\n",
              "      <td>0.0</td>\n",
              "      <td>1</td>\n",
              "      <td>0</td>\n",
              "      <td>0</td>\n",
              "      <td>0</td>\n",
              "      <td>1</td>\n",
              "      <td>0</td>\n",
              "      <td>1</td>\n",
              "      <td>0</td>\n",
              "    </tr>\n",
              "    <tr>\n",
              "      <th>4</th>\n",
              "      <td>100</td>\n",
              "      <td>5</td>\n",
              "      <td>0.199301</td>\n",
              "      <td>0.377551</td>\n",
              "      <td>0.202703</td>\n",
              "      <td>1.0</td>\n",
              "      <td>0.0</td>\n",
              "      <td>0.0</td>\n",
              "      <td>0.0</td>\n",
              "      <td>1</td>\n",
              "      <td>0</td>\n",
              "      <td>0</td>\n",
              "      <td>0</td>\n",
              "      <td>1</td>\n",
              "      <td>0</td>\n",
              "      <td>1</td>\n",
              "      <td>0</td>\n",
              "    </tr>\n",
              "  </tbody>\n",
              "</table>\n",
              "</div>"
            ],
            "text/plain": [
              "   Rented Bike Count  Hour  ...  Functioning Day_0  Functioning Day_1\n",
              "0                204     1  ...                  1                  0\n",
              "1                173     2  ...                  1                  0\n",
              "2                107     3  ...                  1                  0\n",
              "3                 78     4  ...                  1                  0\n",
              "4                100     5  ...                  1                  0\n",
              "\n",
              "[5 rows x 17 columns]"
            ]
          },
          "metadata": {},
          "execution_count": 129
        }
      ]
    },
    {
      "cell_type": "code",
      "metadata": {
        "colab": {
          "base_uri": "https://localhost:8080/"
        },
        "id": "RthjgdjesQvM",
        "outputId": "9f5c0751-89fa-4c2e-eb3c-ec5427e90d0f"
      },
      "source": [
        "df4.shape"
      ],
      "execution_count": null,
      "outputs": [
        {
          "output_type": "execute_result",
          "data": {
            "text/plain": [
              "(8759, 17)"
            ]
          },
          "metadata": {},
          "execution_count": 130
        }
      ]
    },
    {
      "cell_type": "code",
      "metadata": {
        "colab": {
          "base_uri": "https://localhost:8080/"
        },
        "id": "nvvLKRVsr8rV",
        "outputId": "1e0596b6-545e-4fc5-e207-6d2a5f63d3b3"
      },
      "source": [
        "print(df4.isnull().sum())\n",
        "#NO null values found "
      ],
      "execution_count": null,
      "outputs": [
        {
          "output_type": "stream",
          "name": "stdout",
          "text": [
            "Rented Bike Count          0\n",
            "Hour                       0\n",
            "Temperature(°C)            0\n",
            "Humidity(%)                0\n",
            "Wind speed (m/s)           0\n",
            "Visibility (10m)           0\n",
            "Solar Radiation (MJ/m2)    0\n",
            "Rainfall(mm)               0\n",
            "Snowfall (cm)              0\n",
            "Seasons_0                  0\n",
            "Seasons_1                  0\n",
            "Seasons_2                  0\n",
            "Seasons_3                  0\n",
            "Holiday_0                  0\n",
            "Holiday_1                  0\n",
            "Functioning Day_0          0\n",
            "Functioning Day_1          0\n",
            "dtype: int64\n"
          ]
        }
      ]
    },
    {
      "cell_type": "code",
      "metadata": {
        "colab": {
          "base_uri": "https://localhost:8080/"
        },
        "id": "8qO9QIFksVvQ",
        "outputId": "fb7d1ca3-f510-4096-e40f-7e032fa7568a"
      },
      "source": [
        "xtrain,xtest,ytrain,ytest = train_test_split(df4.iloc[:,1:],df4.iloc[:,0],test_size=0.2)\n",
        "dtr = DecisionTreeRegressor().fit(xtrain,ytrain)\n",
        "print(dtr.score(xtrain,ytrain))\n",
        "print(dtr.score(xtest,ytest))"
      ],
      "execution_count": null,
      "outputs": [
        {
          "output_type": "stream",
          "name": "stdout",
          "text": [
            "1.0\n",
            "0.7598840819451949\n"
          ]
        }
      ]
    },
    {
      "cell_type": "code",
      "metadata": {
        "colab": {
          "base_uri": "https://localhost:8080/",
          "height": 110
        },
        "id": "9rHVbvGxsXTC",
        "outputId": "913d53d2-f349-4d40-f881-8d60dd3a9675"
      },
      "source": [
        "y_pred = dtr.predict(xtest)\n",
        "from sklearn.metrics import r2_score,mean_squared_error\n",
        "from statsmodels.tools.eval_measures import rmse\n",
        "\n",
        "#rmse\n",
        "rmse=np.sqrt(mean_squared_error(ytest,y_pred))\n",
        "#r2_score\n",
        "r2=r2_score(ytest,y_pred)\n",
        "Dtree_OneHot_Normalized_noValidation = pd.Series({\n",
        "                     'Model_Name': \"Dtree_OneHot_Normalized_noValidation\",\n",
        "                     'RMSE':rmse,\n",
        "                     'R-Squared':r2 ,\n",
        "                   })\n",
        "\n",
        "score_c = score_c.append(Dtree_OneHot_Normalized_noValidation, ignore_index=True)\n",
        "\n",
        "score_c"
      ],
      "execution_count": null,
      "outputs": [
        {
          "output_type": "execute_result",
          "data": {
            "text/html": [
              "<div>\n",
              "<style scoped>\n",
              "    .dataframe tbody tr th:only-of-type {\n",
              "        vertical-align: middle;\n",
              "    }\n",
              "\n",
              "    .dataframe tbody tr th {\n",
              "        vertical-align: top;\n",
              "    }\n",
              "\n",
              "    .dataframe thead th {\n",
              "        text-align: right;\n",
              "    }\n",
              "</style>\n",
              "<table border=\"1\" class=\"dataframe\">\n",
              "  <thead>\n",
              "    <tr style=\"text-align: right;\">\n",
              "      <th></th>\n",
              "      <th>Model_Name</th>\n",
              "      <th>R-Squared</th>\n",
              "      <th>RMSE</th>\n",
              "    </tr>\n",
              "  </thead>\n",
              "  <tbody>\n",
              "    <tr>\n",
              "      <th>0</th>\n",
              "      <td>Dtree_notOneHot_NotNormalized_noValidation</td>\n",
              "      <td>0.741870</td>\n",
              "      <td>324.290558</td>\n",
              "    </tr>\n",
              "    <tr>\n",
              "      <th>1</th>\n",
              "      <td>Dtree_OneHot_Normalized_noValidation</td>\n",
              "      <td>0.759884</td>\n",
              "      <td>322.368211</td>\n",
              "    </tr>\n",
              "  </tbody>\n",
              "</table>\n",
              "</div>"
            ],
            "text/plain": [
              "                                   Model_Name  R-Squared        RMSE\n",
              "0  Dtree_notOneHot_NotNormalized_noValidation   0.741870  324.290558\n",
              "1        Dtree_OneHot_Normalized_noValidation   0.759884  322.368211"
            ]
          },
          "metadata": {},
          "execution_count": 133
        }
      ]
    },
    {
      "cell_type": "code",
      "metadata": {
        "colab": {
          "base_uri": "https://localhost:8080/",
          "height": 542
        },
        "id": "pJwLck5WsoIf",
        "outputId": "668cb98a-68ae-4434-c7fd-93a40895dd91"
      },
      "source": [
        "from sklearn.decomposition import PCA\n",
        "pca = PCA()\n",
        "xtrain2 = pca.fit_transform(xtrain)\n",
        "xtest = pca.transform(xtest)\n",
        "explained_variance = pca.explained_variance_ratio_\n",
        "evr=pd.DataFrame()\n",
        "evr['VIF']=explained_variance*100  \n",
        "evr['features']=xtrain.columns\n",
        "evr.sort_values('VIF',ascending=False)\n",
        "evr.round(2)"
      ],
      "execution_count": null,
      "outputs": [
        {
          "output_type": "execute_result",
          "data": {
            "text/html": [
              "<div>\n",
              "<style scoped>\n",
              "    .dataframe tbody tr th:only-of-type {\n",
              "        vertical-align: middle;\n",
              "    }\n",
              "\n",
              "    .dataframe tbody tr th {\n",
              "        vertical-align: top;\n",
              "    }\n",
              "\n",
              "    .dataframe thead th {\n",
              "        text-align: right;\n",
              "    }\n",
              "</style>\n",
              "<table border=\"1\" class=\"dataframe\">\n",
              "  <thead>\n",
              "    <tr style=\"text-align: right;\">\n",
              "      <th></th>\n",
              "      <th>VIF</th>\n",
              "      <th>features</th>\n",
              "    </tr>\n",
              "  </thead>\n",
              "  <tbody>\n",
              "    <tr>\n",
              "      <th>0</th>\n",
              "      <td>97.63</td>\n",
              "      <td>Hour</td>\n",
              "    </tr>\n",
              "    <tr>\n",
              "      <th>1</th>\n",
              "      <td>0.59</td>\n",
              "      <td>Temperature(°C)</td>\n",
              "    </tr>\n",
              "    <tr>\n",
              "      <th>2</th>\n",
              "      <td>0.53</td>\n",
              "      <td>Humidity(%)</td>\n",
              "    </tr>\n",
              "    <tr>\n",
              "      <th>3</th>\n",
              "      <td>0.52</td>\n",
              "      <td>Wind speed (m/s)</td>\n",
              "    </tr>\n",
              "    <tr>\n",
              "      <th>4</th>\n",
              "      <td>0.23</td>\n",
              "      <td>Visibility (10m)</td>\n",
              "    </tr>\n",
              "    <tr>\n",
              "      <th>5</th>\n",
              "      <td>0.18</td>\n",
              "      <td>Solar Radiation (MJ/m2)</td>\n",
              "    </tr>\n",
              "    <tr>\n",
              "      <th>6</th>\n",
              "      <td>0.12</td>\n",
              "      <td>Rainfall(mm)</td>\n",
              "    </tr>\n",
              "    <tr>\n",
              "      <th>7</th>\n",
              "      <td>0.12</td>\n",
              "      <td>Snowfall (cm)</td>\n",
              "    </tr>\n",
              "    <tr>\n",
              "      <th>8</th>\n",
              "      <td>0.03</td>\n",
              "      <td>Seasons_0</td>\n",
              "    </tr>\n",
              "    <tr>\n",
              "      <th>9</th>\n",
              "      <td>0.03</td>\n",
              "      <td>Seasons_1</td>\n",
              "    </tr>\n",
              "    <tr>\n",
              "      <th>10</th>\n",
              "      <td>0.02</td>\n",
              "      <td>Seasons_2</td>\n",
              "    </tr>\n",
              "    <tr>\n",
              "      <th>11</th>\n",
              "      <td>0.00</td>\n",
              "      <td>Seasons_3</td>\n",
              "    </tr>\n",
              "    <tr>\n",
              "      <th>12</th>\n",
              "      <td>0.00</td>\n",
              "      <td>Holiday_0</td>\n",
              "    </tr>\n",
              "    <tr>\n",
              "      <th>13</th>\n",
              "      <td>0.00</td>\n",
              "      <td>Holiday_1</td>\n",
              "    </tr>\n",
              "    <tr>\n",
              "      <th>14</th>\n",
              "      <td>0.00</td>\n",
              "      <td>Functioning Day_0</td>\n",
              "    </tr>\n",
              "    <tr>\n",
              "      <th>15</th>\n",
              "      <td>0.00</td>\n",
              "      <td>Functioning Day_1</td>\n",
              "    </tr>\n",
              "  </tbody>\n",
              "</table>\n",
              "</div>"
            ],
            "text/plain": [
              "      VIF                 features\n",
              "0   97.63                     Hour\n",
              "1    0.59          Temperature(°C)\n",
              "2    0.53              Humidity(%)\n",
              "3    0.52         Wind speed (m/s)\n",
              "4    0.23         Visibility (10m)\n",
              "5    0.18  Solar Radiation (MJ/m2)\n",
              "6    0.12             Rainfall(mm)\n",
              "7    0.12            Snowfall (cm)\n",
              "8    0.03                Seasons_0\n",
              "9    0.03                Seasons_1\n",
              "10   0.02                Seasons_2\n",
              "11   0.00                Seasons_3\n",
              "12   0.00                Holiday_0\n",
              "13   0.00                Holiday_1\n",
              "14   0.00        Functioning Day_0\n",
              "15   0.00        Functioning Day_1"
            ]
          },
          "metadata": {},
          "execution_count": 134
        }
      ]
    },
    {
      "cell_type": "code",
      "metadata": {
        "colab": {
          "base_uri": "https://localhost:8080/"
        },
        "id": "wZpNpa0Etrgq",
        "outputId": "adef9205-4c61-41c4-baf2-ec6634880cc2"
      },
      "source": [
        "from sklearn.decomposition import PCA\n",
        "xtrain,xtest,ytrain,ytest = train_test_split(df4.iloc[:,1:],df4.iloc[:,0],test_size=0.2)\n",
        "pca = PCA(n_components=10)\n",
        "xtrain = pca.fit_transform(xtrain)\n",
        "xtest = pca.transform(xtest)\n",
        "from sklearn.ensemble import RandomForestClassifier\n",
        "\n",
        "dtr = DecisionTreeRegressor().fit(xtrain,ytrain)\n",
        "print(dtr.score(xtrain,ytrain))\n",
        "print(dtr.score(xtest,ytest))"
      ],
      "execution_count": null,
      "outputs": [
        {
          "output_type": "stream",
          "name": "stdout",
          "text": [
            "1.0\n",
            "0.6743534768235919\n"
          ]
        }
      ]
    },
    {
      "cell_type": "code",
      "metadata": {
        "colab": {
          "base_uri": "https://localhost:8080/",
          "height": 142
        },
        "id": "D5wYKhiitxG8",
        "outputId": "b350c4ac-fc77-43f7-dcf2-c7fe87c80118"
      },
      "source": [
        "y_pred = dtr.predict(xtest)\n",
        "from sklearn.metrics import r2_score,mean_squared_error\n",
        "from statsmodels.tools.eval_measures import rmse\n",
        "\n",
        "#rmse\n",
        "rmse=np.sqrt(mean_squared_error(ytest,y_pred))\n",
        "#r2_score\n",
        "r2=r2_score(ytest,y_pred)\n",
        "Dtree_WithPCA = pd.Series({\n",
        "                     'Model_Name': \"Dtree_WithPCA\",\n",
        "                     'RMSE':rmse,\n",
        "                     'R-Squared':r2 ,\n",
        "                   })\n",
        "\n",
        "score_c = score_c.append(Dtree_WithPCA, ignore_index=True)\n",
        "\n",
        "score_c"
      ],
      "execution_count": null,
      "outputs": [
        {
          "output_type": "execute_result",
          "data": {
            "text/html": [
              "<div>\n",
              "<style scoped>\n",
              "    .dataframe tbody tr th:only-of-type {\n",
              "        vertical-align: middle;\n",
              "    }\n",
              "\n",
              "    .dataframe tbody tr th {\n",
              "        vertical-align: top;\n",
              "    }\n",
              "\n",
              "    .dataframe thead th {\n",
              "        text-align: right;\n",
              "    }\n",
              "</style>\n",
              "<table border=\"1\" class=\"dataframe\">\n",
              "  <thead>\n",
              "    <tr style=\"text-align: right;\">\n",
              "      <th></th>\n",
              "      <th>Model_Name</th>\n",
              "      <th>R-Squared</th>\n",
              "      <th>RMSE</th>\n",
              "    </tr>\n",
              "  </thead>\n",
              "  <tbody>\n",
              "    <tr>\n",
              "      <th>0</th>\n",
              "      <td>Dtree_notOneHot_NotNormalized_noValidation</td>\n",
              "      <td>0.741870</td>\n",
              "      <td>324.290558</td>\n",
              "    </tr>\n",
              "    <tr>\n",
              "      <th>1</th>\n",
              "      <td>Dtree_OneHot_Normalized_noValidation</td>\n",
              "      <td>0.759884</td>\n",
              "      <td>322.368211</td>\n",
              "    </tr>\n",
              "    <tr>\n",
              "      <th>2</th>\n",
              "      <td>Dtree_WithPCA</td>\n",
              "      <td>0.674353</td>\n",
              "      <td>367.546329</td>\n",
              "    </tr>\n",
              "  </tbody>\n",
              "</table>\n",
              "</div>"
            ],
            "text/plain": [
              "                                   Model_Name  R-Squared        RMSE\n",
              "0  Dtree_notOneHot_NotNormalized_noValidation   0.741870  324.290558\n",
              "1        Dtree_OneHot_Normalized_noValidation   0.759884  322.368211\n",
              "2                               Dtree_WithPCA   0.674353  367.546329"
            ]
          },
          "metadata": {},
          "execution_count": 136
        }
      ]
    },
    {
      "cell_type": "code",
      "metadata": {
        "id": "MQJHbuAINP8e"
      },
      "source": [
        "#As we can see , using PCA to get even top 10 features doesn't work and reduces R2 score as when using all features\n",
        "#I'm using Decision tree and Random forest regressor as we low number of features and large samples"
      ],
      "execution_count": null,
      "outputs": []
    },
    {
      "cell_type": "code",
      "metadata": {
        "id": "j0B7h9uqNxHU"
      },
      "source": [
        "X_train, X_test, y_train, y_test  = train_test_split(df4.iloc[:,1:],df4.iloc[:,0],test_size=0.15)\n",
        "\n",
        "X_train, X_val, y_train, y_val  = train_test_split(X_train, y_train, test_size=0.176, random_state=1) # 0.176*0.85=0.15"
      ],
      "execution_count": null,
      "outputs": []
    },
    {
      "cell_type": "code",
      "metadata": {
        "colab": {
          "base_uri": "https://localhost:8080/"
        },
        "id": "Sgfw_OGAO8PB",
        "outputId": "bf97f785-11c7-4730-8b02-549f6b56e8fe"
      },
      "source": [
        "from sklearn.model_selection import GridSearchCV\n",
        "param_grid={'criterion':['mse'],\n",
        "           'max_depth':range(12,13),\n",
        "           'min_samples_leaf':range(8,9),\n",
        "           'min_samples_split':range(2,10)}\n",
        "gr = GridSearchCV(DecisionTreeRegressor(),param_grid,cv=5,n_jobs=-1)\n",
        "gr.fit(X_val, y_val)"
      ],
      "execution_count": null,
      "outputs": [
        {
          "output_type": "execute_result",
          "data": {
            "text/plain": [
              "GridSearchCV(cv=5, error_score=nan,\n",
              "             estimator=DecisionTreeRegressor(ccp_alpha=0.0, criterion='mse',\n",
              "                                             max_depth=None, max_features=None,\n",
              "                                             max_leaf_nodes=None,\n",
              "                                             min_impurity_decrease=0.0,\n",
              "                                             min_impurity_split=None,\n",
              "                                             min_samples_leaf=1,\n",
              "                                             min_samples_split=2,\n",
              "                                             min_weight_fraction_leaf=0.0,\n",
              "                                             presort='deprecated',\n",
              "                                             random_state=None,\n",
              "                                             splitter='best'),\n",
              "             iid='deprecated', n_jobs=-1,\n",
              "             param_grid={'criterion': ['mse'], 'max_depth': range(12, 13),\n",
              "                         'min_samples_leaf': range(8, 9),\n",
              "                         'min_samples_split': range(2, 10)},\n",
              "             pre_dispatch='2*n_jobs', refit=True, return_train_score=False,\n",
              "             scoring=None, verbose=0)"
            ]
          },
          "metadata": {},
          "execution_count": 139
        }
      ]
    },
    {
      "cell_type": "code",
      "metadata": {
        "colab": {
          "base_uri": "https://localhost:8080/"
        },
        "id": "0Th6DkXcO-l_",
        "outputId": "49064ac9-35c2-4f26-bbb9-fc0b4a831739"
      },
      "source": [
        "gr.best_params_"
      ],
      "execution_count": null,
      "outputs": [
        {
          "output_type": "execute_result",
          "data": {
            "text/plain": [
              "{'criterion': 'mse',\n",
              " 'max_depth': 12,\n",
              " 'min_samples_leaf': 8,\n",
              " 'min_samples_split': 2}"
            ]
          },
          "metadata": {},
          "execution_count": 140
        }
      ]
    },
    {
      "cell_type": "code",
      "metadata": {
        "colab": {
          "base_uri": "https://localhost:8080/"
        },
        "id": "IwwbseEuPD8K",
        "outputId": "7dedff90-34d3-47d9-a604-bf39254183c7"
      },
      "source": [
        "dtr = DecisionTreeRegressor(criterion='mse',max_depth=12,min_samples_leaf=8,min_samples_split=3).fit(X_train,y_train)\n",
        "print(dtr.score(X_train,y_train))\n",
        "print(dtr.score(X_val, y_val))"
      ],
      "execution_count": null,
      "outputs": [
        {
          "output_type": "stream",
          "name": "stdout",
          "text": [
            "0.9021165485038544\n",
            "0.81979102917708\n"
          ]
        }
      ]
    },
    {
      "cell_type": "code",
      "metadata": {
        "colab": {
          "base_uri": "https://localhost:8080/",
          "height": 172
        },
        "id": "I_rc_YIcQyt8",
        "outputId": "93a89231-69ca-42ba-8c29-21a9e17f35a0"
      },
      "source": [
        "y_pred = dtr.predict(X_test)\n",
        "from sklearn.metrics import r2_score,mean_squared_error\n",
        "from statsmodels.tools.eval_measures import rmse\n",
        "\n",
        "#rmse\n",
        "rmse=np.sqrt(mean_squared_error(y_test,y_pred))\n",
        "#r2_score\n",
        "r2=r2_score(y_test,y_pred)\n",
        "DTree_withHyperParTuning = pd.Series({\n",
        "                     'Model_Name': \"DTree_withHyperParTuning\",\n",
        "                     'RMSE':rmse,\n",
        "                     'R-Squared':r2 ,\n",
        "                   })\n",
        "\n",
        "score_c = score_c.append(DTree_withHyperParTuning, ignore_index=True)\n",
        "\n",
        "score_c"
      ],
      "execution_count": null,
      "outputs": [
        {
          "output_type": "execute_result",
          "data": {
            "text/html": [
              "<div>\n",
              "<style scoped>\n",
              "    .dataframe tbody tr th:only-of-type {\n",
              "        vertical-align: middle;\n",
              "    }\n",
              "\n",
              "    .dataframe tbody tr th {\n",
              "        vertical-align: top;\n",
              "    }\n",
              "\n",
              "    .dataframe thead th {\n",
              "        text-align: right;\n",
              "    }\n",
              "</style>\n",
              "<table border=\"1\" class=\"dataframe\">\n",
              "  <thead>\n",
              "    <tr style=\"text-align: right;\">\n",
              "      <th></th>\n",
              "      <th>Model_Name</th>\n",
              "      <th>R-Squared</th>\n",
              "      <th>RMSE</th>\n",
              "    </tr>\n",
              "  </thead>\n",
              "  <tbody>\n",
              "    <tr>\n",
              "      <th>0</th>\n",
              "      <td>Dtree_notOneHot_NotNormalized_noValidation</td>\n",
              "      <td>0.741870</td>\n",
              "      <td>324.290558</td>\n",
              "    </tr>\n",
              "    <tr>\n",
              "      <th>1</th>\n",
              "      <td>Dtree_OneHot_Normalized_noValidation</td>\n",
              "      <td>0.759884</td>\n",
              "      <td>322.368211</td>\n",
              "    </tr>\n",
              "    <tr>\n",
              "      <th>2</th>\n",
              "      <td>Dtree_WithPCA</td>\n",
              "      <td>0.674353</td>\n",
              "      <td>367.546329</td>\n",
              "    </tr>\n",
              "    <tr>\n",
              "      <th>3</th>\n",
              "      <td>DTree_withHyperParTuning</td>\n",
              "      <td>0.818656</td>\n",
              "      <td>266.595608</td>\n",
              "    </tr>\n",
              "  </tbody>\n",
              "</table>\n",
              "</div>"
            ],
            "text/plain": [
              "                                   Model_Name  R-Squared        RMSE\n",
              "0  Dtree_notOneHot_NotNormalized_noValidation   0.741870  324.290558\n",
              "1        Dtree_OneHot_Normalized_noValidation   0.759884  322.368211\n",
              "2                               Dtree_WithPCA   0.674353  367.546329\n",
              "3                    DTree_withHyperParTuning   0.818656  266.595608"
            ]
          },
          "metadata": {},
          "execution_count": 142
        }
      ]
    },
    {
      "cell_type": "code",
      "metadata": {
        "colab": {
          "base_uri": "https://localhost:8080/"
        },
        "id": "fAWjWzBFQ3Ae",
        "outputId": "2fd345d4-96df-4b79-b771-7ec9e28ac734"
      },
      "source": [
        "from sklearn.ensemble import RandomForestRegressor\n",
        "rfr = RandomForestRegressor(n_estimators=7).fit(X_train,y_train)\n",
        "print(rfr.score(X_train,y_train))\n",
        "print(rfr.score(X_val, y_val))"
      ],
      "execution_count": null,
      "outputs": [
        {
          "output_type": "stream",
          "name": "stdout",
          "text": [
            "0.9720563631400547\n",
            "0.8473937775929914\n"
          ]
        }
      ]
    },
    {
      "cell_type": "code",
      "metadata": {
        "colab": {
          "base_uri": "https://localhost:8080/",
          "height": 203
        },
        "id": "LSbI-gUzRK4k",
        "outputId": "58fc5eec-67d7-4cc8-80c7-ba74528dcd10"
      },
      "source": [
        "y_pred = rfr.predict(X_test)\n",
        "from sklearn.metrics import r2_score,mean_squared_error\n",
        "from statsmodels.tools.eval_measures import rmse\n",
        "\n",
        "#rmse\n",
        "rmse=np.sqrt(mean_squared_error(y_test,y_pred))\n",
        "#r2_score\n",
        "r2=r2_score(y_test,y_pred)\n",
        "RFR_withValidation = pd.Series({\n",
        "                     'Model_Name': \"RFR_withValidation\",\n",
        "                     'RMSE':rmse,\n",
        "                     'R-Squared':r2 ,\n",
        "                   })\n",
        "\n",
        "score_c = score_c.append(RFR_withValidation, ignore_index=True)\n",
        "\n",
        "score_c"
      ],
      "execution_count": null,
      "outputs": [
        {
          "output_type": "execute_result",
          "data": {
            "text/html": [
              "<div>\n",
              "<style scoped>\n",
              "    .dataframe tbody tr th:only-of-type {\n",
              "        vertical-align: middle;\n",
              "    }\n",
              "\n",
              "    .dataframe tbody tr th {\n",
              "        vertical-align: top;\n",
              "    }\n",
              "\n",
              "    .dataframe thead th {\n",
              "        text-align: right;\n",
              "    }\n",
              "</style>\n",
              "<table border=\"1\" class=\"dataframe\">\n",
              "  <thead>\n",
              "    <tr style=\"text-align: right;\">\n",
              "      <th></th>\n",
              "      <th>Model_Name</th>\n",
              "      <th>R-Squared</th>\n",
              "      <th>RMSE</th>\n",
              "    </tr>\n",
              "  </thead>\n",
              "  <tbody>\n",
              "    <tr>\n",
              "      <th>0</th>\n",
              "      <td>Dtree_notOneHot_NotNormalized_noValidation</td>\n",
              "      <td>0.741870</td>\n",
              "      <td>324.290558</td>\n",
              "    </tr>\n",
              "    <tr>\n",
              "      <th>1</th>\n",
              "      <td>Dtree_OneHot_Normalized_noValidation</td>\n",
              "      <td>0.759884</td>\n",
              "      <td>322.368211</td>\n",
              "    </tr>\n",
              "    <tr>\n",
              "      <th>2</th>\n",
              "      <td>Dtree_WithPCA</td>\n",
              "      <td>0.674353</td>\n",
              "      <td>367.546329</td>\n",
              "    </tr>\n",
              "    <tr>\n",
              "      <th>3</th>\n",
              "      <td>DTree_withHyperParTuning</td>\n",
              "      <td>0.818656</td>\n",
              "      <td>266.595608</td>\n",
              "    </tr>\n",
              "    <tr>\n",
              "      <th>4</th>\n",
              "      <td>RFR_withValidation</td>\n",
              "      <td>0.842095</td>\n",
              "      <td>248.770958</td>\n",
              "    </tr>\n",
              "  </tbody>\n",
              "</table>\n",
              "</div>"
            ],
            "text/plain": [
              "                                   Model_Name  R-Squared        RMSE\n",
              "0  Dtree_notOneHot_NotNormalized_noValidation   0.741870  324.290558\n",
              "1        Dtree_OneHot_Normalized_noValidation   0.759884  322.368211\n",
              "2                               Dtree_WithPCA   0.674353  367.546329\n",
              "3                    DTree_withHyperParTuning   0.818656  266.595608\n",
              "4                          RFR_withValidation   0.842095  248.770958"
            ]
          },
          "metadata": {},
          "execution_count": 144
        }
      ]
    },
    {
      "cell_type": "code",
      "metadata": {
        "id": "0b1sJlTzRscx"
      },
      "source": [
        "from sklearn.model_selection import cross_val_score\n",
        "score=[]\n",
        "for n in range(1,100):\n",
        "    rfr = RandomForestRegressor(n_estimators=n,n_jobs=-1)\n",
        "    rfrscore = cross_val_score(rfr,X_train,y_train,cv=5).mean()\n",
        "    score.append(rfrscore)"
      ],
      "execution_count": null,
      "outputs": []
    },
    {
      "cell_type": "code",
      "metadata": {
        "colab": {
          "base_uri": "https://localhost:8080/"
        },
        "id": "85bBgH_lR2nF",
        "outputId": "2415a147-48f2-408d-e450-df8b89bf4829"
      },
      "source": [
        "print(max(score),score.index(max(score)))"
      ],
      "execution_count": null,
      "outputs": [
        {
          "output_type": "stream",
          "name": "stdout",
          "text": [
            "0.8675927112701161 96\n"
          ]
        }
      ]
    },
    {
      "cell_type": "code",
      "metadata": {
        "colab": {
          "base_uri": "https://localhost:8080/",
          "height": 186
        },
        "id": "CVgpVQxiR6Ax",
        "outputId": "5c74fc37-d2df-4f22-dca9-68af56a576f9"
      },
      "source": [
        "plt.figure(figsize=(20,5))\n",
        "sns.lineplot(x=range(1,100),y=score)\n",
        "plt.show()"
      ],
      "execution_count": null,
      "outputs": [
        {
          "output_type": "display_data",
          "data": {
            "image/png": "[encoded data removed]",
            "text/plain": [
              "<Figure size 1440x360 with 1 Axes>"
            ]
          },
          "metadata": {
            "needs_background": "light"
          }
        }
      ]
    },
    {
      "cell_type": "code",
      "metadata": {
        "colab": {
          "base_uri": "https://localhost:8080/"
        },
        "id": "CmrUoFUbSWhl",
        "outputId": "2a72af19-4c1f-4e76-fc72-4ce1916e747f"
      },
      "source": [
        "rfr = RandomForestRegressor(n_estimators=74,n_jobs=-1).fit(X_train,y_train)\n",
        "print(rfr.score(X_train,y_train))\n",
        "print(rfr.score(X_val, y_val))\n",
        "y_pred = rfr.predict(X_test)\n",
        "from sklearn.metrics import r2_score,mean_squared_error\n",
        "from statsmodels.tools.eval_measures import rmse\n",
        "\n",
        "#rmse\n",
        "rmse=np.sqrt(mean_squared_error(y_test,y_pred))\n",
        "#r2_score\n",
        "r2=r2_score(y_test,y_pred)\n",
        "RFR_with_HyperparaTuning = pd.Series({\n",
        "                     'Model_Name': \"RFR_with_HyperparaTuning\",\n",
        "                     'RMSE':rmse,\n",
        "                     'R-Squared':r2 ,\n",
        "                   })"
      ],
      "execution_count": null,
      "outputs": [
        {
          "output_type": "stream",
          "name": "stdout",
          "text": [
            "0.9818313581287307\n",
            "0.8605641524487027\n"
          ]
        }
      ]
    },
    {
      "cell_type": "code",
      "metadata": {
        "colab": {
          "base_uri": "https://localhost:8080/",
          "height": 234
        },
        "id": "AOWgReM7Sb44",
        "outputId": "491cbc6c-7497-4227-e666-659c7342676a"
      },
      "source": [
        "score_c = score_c.append(RFR_with_HyperparaTuning, ignore_index=True)\n",
        "score_c"
      ],
      "execution_count": null,
      "outputs": [
        {
          "output_type": "execute_result",
          "data": {
            "text/html": [
              "<div>\n",
              "<style scoped>\n",
              "    .dataframe tbody tr th:only-of-type {\n",
              "        vertical-align: middle;\n",
              "    }\n",
              "\n",
              "    .dataframe tbody tr th {\n",
              "        vertical-align: top;\n",
              "    }\n",
              "\n",
              "    .dataframe thead th {\n",
              "        text-align: right;\n",
              "    }\n",
              "</style>\n",
              "<table border=\"1\" class=\"dataframe\">\n",
              "  <thead>\n",
              "    <tr style=\"text-align: right;\">\n",
              "      <th></th>\n",
              "      <th>Model_Name</th>\n",
              "      <th>R-Squared</th>\n",
              "      <th>RMSE</th>\n",
              "    </tr>\n",
              "  </thead>\n",
              "  <tbody>\n",
              "    <tr>\n",
              "      <th>0</th>\n",
              "      <td>Dtree_notOneHot_NotNormalized_noValidation</td>\n",
              "      <td>0.741870</td>\n",
              "      <td>324.290558</td>\n",
              "    </tr>\n",
              "    <tr>\n",
              "      <th>1</th>\n",
              "      <td>Dtree_OneHot_Normalized_noValidation</td>\n",
              "      <td>0.759884</td>\n",
              "      <td>322.368211</td>\n",
              "    </tr>\n",
              "    <tr>\n",
              "      <th>2</th>\n",
              "      <td>Dtree_WithPCA</td>\n",
              "      <td>0.674353</td>\n",
              "      <td>367.546329</td>\n",
              "    </tr>\n",
              "    <tr>\n",
              "      <th>3</th>\n",
              "      <td>DTree_withHyperParTuning</td>\n",
              "      <td>0.818656</td>\n",
              "      <td>266.595608</td>\n",
              "    </tr>\n",
              "    <tr>\n",
              "      <th>4</th>\n",
              "      <td>RFR_withValidation</td>\n",
              "      <td>0.842095</td>\n",
              "      <td>248.770958</td>\n",
              "    </tr>\n",
              "    <tr>\n",
              "      <th>5</th>\n",
              "      <td>RFR_with_HyperparaTuning</td>\n",
              "      <td>0.868342</td>\n",
              "      <td>227.156193</td>\n",
              "    </tr>\n",
              "  </tbody>\n",
              "</table>\n",
              "</div>"
            ],
            "text/plain": [
              "                                   Model_Name  R-Squared        RMSE\n",
              "0  Dtree_notOneHot_NotNormalized_noValidation   0.741870  324.290558\n",
              "1        Dtree_OneHot_Normalized_noValidation   0.759884  322.368211\n",
              "2                               Dtree_WithPCA   0.674353  367.546329\n",
              "3                    DTree_withHyperParTuning   0.818656  266.595608\n",
              "4                          RFR_withValidation   0.842095  248.770958\n",
              "5                    RFR_with_HyperparaTuning   0.868342  227.156193"
            ]
          },
          "metadata": {},
          "execution_count": 149
        }
      ]
    },
    {
      "cell_type": "markdown",
      "metadata": {
        "id": "YQ-iLHq2TCko"
      },
      "source": [
        "## Question 4"
      ]
    },
    {
      "cell_type": "code",
      "metadata": {
        "colab": {
          "base_uri": "https://localhost:8080/",
          "height": 223
        },
        "id": "7mPa5yauTBA-",
        "outputId": "c0d282c9-cc3f-47f4-df55-15ca0e278785"
      },
      "source": [
        "all_files = ['/content/drive/MyDrive/0.csv', '/content/drive/MyDrive/1.csv', '/content/drive/MyDrive/2.csv', '/content/drive/MyDrive/3.csv']\n",
        "li = []\n",
        "\n",
        "for filename in all_files:\n",
        "    df = pd.read_csv(filename, index_col=None, header=None)\n",
        "    li.append(df)\n",
        "\n",
        "frame = pd.concat(li, axis=0, ignore_index=True)\n",
        "frame.head()"
      ],
      "execution_count": null,
      "outputs": [
        {
          "output_type": "execute_result",
          "data": {
            "text/html": [
              "<div>\n",
              "<style scoped>\n",
              "    .dataframe tbody tr th:only-of-type {\n",
              "        vertical-align: middle;\n",
              "    }\n",
              "\n",
              "    .dataframe tbody tr th {\n",
              "        vertical-align: top;\n",
              "    }\n",
              "\n",
              "    .dataframe thead th {\n",
              "        text-align: right;\n",
              "    }\n",
              "</style>\n",
              "<table border=\"1\" class=\"dataframe\">\n",
              "  <thead>\n",
              "    <tr style=\"text-align: right;\">\n",
              "      <th></th>\n",
              "      <th>0</th>\n",
              "      <th>1</th>\n",
              "      <th>2</th>\n",
              "      <th>3</th>\n",
              "      <th>4</th>\n",
              "      <th>5</th>\n",
              "      <th>6</th>\n",
              "      <th>7</th>\n",
              "      <th>8</th>\n",
              "      <th>9</th>\n",
              "      <th>10</th>\n",
              "      <th>11</th>\n",
              "      <th>12</th>\n",
              "      <th>13</th>\n",
              "      <th>14</th>\n",
              "      <th>15</th>\n",
              "      <th>16</th>\n",
              "      <th>17</th>\n",
              "      <th>18</th>\n",
              "      <th>19</th>\n",
              "      <th>20</th>\n",
              "      <th>21</th>\n",
              "      <th>22</th>\n",
              "      <th>23</th>\n",
              "      <th>24</th>\n",
              "      <th>25</th>\n",
              "      <th>26</th>\n",
              "      <th>27</th>\n",
              "      <th>28</th>\n",
              "      <th>29</th>\n",
              "      <th>30</th>\n",
              "      <th>31</th>\n",
              "      <th>32</th>\n",
              "      <th>33</th>\n",
              "      <th>34</th>\n",
              "      <th>35</th>\n",
              "      <th>36</th>\n",
              "      <th>37</th>\n",
              "      <th>38</th>\n",
              "      <th>39</th>\n",
              "      <th>40</th>\n",
              "      <th>41</th>\n",
              "      <th>42</th>\n",
              "      <th>43</th>\n",
              "      <th>44</th>\n",
              "      <th>45</th>\n",
              "      <th>46</th>\n",
              "      <th>47</th>\n",
              "      <th>48</th>\n",
              "      <th>49</th>\n",
              "      <th>50</th>\n",
              "      <th>51</th>\n",
              "      <th>52</th>\n",
              "      <th>53</th>\n",
              "      <th>54</th>\n",
              "      <th>55</th>\n",
              "      <th>56</th>\n",
              "      <th>57</th>\n",
              "      <th>58</th>\n",
              "      <th>59</th>\n",
              "      <th>60</th>\n",
              "      <th>61</th>\n",
              "      <th>62</th>\n",
              "      <th>63</th>\n",
              "      <th>64</th>\n",
              "    </tr>\n",
              "  </thead>\n",
              "  <tbody>\n",
              "    <tr>\n",
              "      <th>0</th>\n",
              "      <td>26.0</td>\n",
              "      <td>4.0</td>\n",
              "      <td>5.0</td>\n",
              "      <td>8.0</td>\n",
              "      <td>-1.0</td>\n",
              "      <td>-13.0</td>\n",
              "      <td>-109.0</td>\n",
              "      <td>-66.0</td>\n",
              "      <td>-9.0</td>\n",
              "      <td>2.0</td>\n",
              "      <td>4.0</td>\n",
              "      <td>13.0</td>\n",
              "      <td>-18.0</td>\n",
              "      <td>-30.0</td>\n",
              "      <td>-119.0</td>\n",
              "      <td>-45.0</td>\n",
              "      <td>17.0</td>\n",
              "      <td>6.0</td>\n",
              "      <td>-1.0</td>\n",
              "      <td>-9.0</td>\n",
              "      <td>27.0</td>\n",
              "      <td>20.0</td>\n",
              "      <td>91.0</td>\n",
              "      <td>71.0</td>\n",
              "      <td>-26.0</td>\n",
              "      <td>-1.0</td>\n",
              "      <td>0.0</td>\n",
              "      <td>1.0</td>\n",
              "      <td>13.0</td>\n",
              "      <td>20.0</td>\n",
              "      <td>-62.0</td>\n",
              "      <td>-19.0</td>\n",
              "      <td>29.0</td>\n",
              "      <td>2.0</td>\n",
              "      <td>2.0</td>\n",
              "      <td>0.0</td>\n",
              "      <td>-23.0</td>\n",
              "      <td>-1.0</td>\n",
              "      <td>-80.0</td>\n",
              "      <td>4.0</td>\n",
              "      <td>-7.0</td>\n",
              "      <td>-6.0</td>\n",
              "      <td>-12.0</td>\n",
              "      <td>-27.0</td>\n",
              "      <td>-11.0</td>\n",
              "      <td>-16.0</td>\n",
              "      <td>-67.0</td>\n",
              "      <td>-8.0</td>\n",
              "      <td>-27.0</td>\n",
              "      <td>1.0</td>\n",
              "      <td>1.0</td>\n",
              "      <td>13.0</td>\n",
              "      <td>-8.0</td>\n",
              "      <td>-11.0</td>\n",
              "      <td>21.0</td>\n",
              "      <td>-28.0</td>\n",
              "      <td>61.0</td>\n",
              "      <td>4.0</td>\n",
              "      <td>8.0</td>\n",
              "      <td>5.0</td>\n",
              "      <td>4.0</td>\n",
              "      <td>-7.0</td>\n",
              "      <td>-59.0</td>\n",
              "      <td>16.0</td>\n",
              "      <td>0</td>\n",
              "    </tr>\n",
              "    <tr>\n",
              "      <th>1</th>\n",
              "      <td>-47.0</td>\n",
              "      <td>-6.0</td>\n",
              "      <td>-5.0</td>\n",
              "      <td>-7.0</td>\n",
              "      <td>13.0</td>\n",
              "      <td>-1.0</td>\n",
              "      <td>35.0</td>\n",
              "      <td>-10.0</td>\n",
              "      <td>10.0</td>\n",
              "      <td>-4.0</td>\n",
              "      <td>0.0</td>\n",
              "      <td>7.0</td>\n",
              "      <td>-31.0</td>\n",
              "      <td>-33.0</td>\n",
              "      <td>-48.0</td>\n",
              "      <td>-52.0</td>\n",
              "      <td>34.0</td>\n",
              "      <td>10.0</td>\n",
              "      <td>5.0</td>\n",
              "      <td>-9.0</td>\n",
              "      <td>23.0</td>\n",
              "      <td>63.0</td>\n",
              "      <td>76.0</td>\n",
              "      <td>49.0</td>\n",
              "      <td>-27.0</td>\n",
              "      <td>-7.0</td>\n",
              "      <td>-7.0</td>\n",
              "      <td>-3.0</td>\n",
              "      <td>0.0</td>\n",
              "      <td>4.0</td>\n",
              "      <td>-111.0</td>\n",
              "      <td>-2.0</td>\n",
              "      <td>-7.0</td>\n",
              "      <td>7.0</td>\n",
              "      <td>11.0</td>\n",
              "      <td>11.0</td>\n",
              "      <td>2.0</td>\n",
              "      <td>2.0</td>\n",
              "      <td>76.0</td>\n",
              "      <td>3.0</td>\n",
              "      <td>7.0</td>\n",
              "      <td>-2.0</td>\n",
              "      <td>0.0</td>\n",
              "      <td>-6.0</td>\n",
              "      <td>21.0</td>\n",
              "      <td>-3.0</td>\n",
              "      <td>0.0</td>\n",
              "      <td>-8.0</td>\n",
              "      <td>-40.0</td>\n",
              "      <td>-4.0</td>\n",
              "      <td>-1.0</td>\n",
              "      <td>6.0</td>\n",
              "      <td>-2.0</td>\n",
              "      <td>-2.0</td>\n",
              "      <td>-105.0</td>\n",
              "      <td>-25.0</td>\n",
              "      <td>47.0</td>\n",
              "      <td>6.0</td>\n",
              "      <td>6.0</td>\n",
              "      <td>5.0</td>\n",
              "      <td>13.0</td>\n",
              "      <td>21.0</td>\n",
              "      <td>111.0</td>\n",
              "      <td>15.0</td>\n",
              "      <td>0</td>\n",
              "    </tr>\n",
              "    <tr>\n",
              "      <th>2</th>\n",
              "      <td>-19.0</td>\n",
              "      <td>-8.0</td>\n",
              "      <td>-8.0</td>\n",
              "      <td>-8.0</td>\n",
              "      <td>-21.0</td>\n",
              "      <td>-6.0</td>\n",
              "      <td>-79.0</td>\n",
              "      <td>12.0</td>\n",
              "      <td>0.0</td>\n",
              "      <td>5.0</td>\n",
              "      <td>4.0</td>\n",
              "      <td>16.0</td>\n",
              "      <td>24.0</td>\n",
              "      <td>9.0</td>\n",
              "      <td>33.0</td>\n",
              "      <td>34.0</td>\n",
              "      <td>-1.0</td>\n",
              "      <td>-4.0</td>\n",
              "      <td>-3.0</td>\n",
              "      <td>-6.0</td>\n",
              "      <td>-7.0</td>\n",
              "      <td>-11.0</td>\n",
              "      <td>-85.0</td>\n",
              "      <td>-12.0</td>\n",
              "      <td>-10.0</td>\n",
              "      <td>-2.0</td>\n",
              "      <td>-3.0</td>\n",
              "      <td>-2.0</td>\n",
              "      <td>-8.0</td>\n",
              "      <td>-30.0</td>\n",
              "      <td>-16.0</td>\n",
              "      <td>-22.0</td>\n",
              "      <td>-21.0</td>\n",
              "      <td>-7.0</td>\n",
              "      <td>-8.0</td>\n",
              "      <td>-12.0</td>\n",
              "      <td>-14.0</td>\n",
              "      <td>-18.0</td>\n",
              "      <td>-76.0</td>\n",
              "      <td>-44.0</td>\n",
              "      <td>27.0</td>\n",
              "      <td>7.0</td>\n",
              "      <td>4.0</td>\n",
              "      <td>-4.0</td>\n",
              "      <td>-10.0</td>\n",
              "      <td>23.0</td>\n",
              "      <td>127.0</td>\n",
              "      <td>69.0</td>\n",
              "      <td>-25.0</td>\n",
              "      <td>-12.0</td>\n",
              "      <td>-9.0</td>\n",
              "      <td>1.0</td>\n",
              "      <td>18.0</td>\n",
              "      <td>-33.0</td>\n",
              "      <td>-128.0</td>\n",
              "      <td>-83.0</td>\n",
              "      <td>7.0</td>\n",
              "      <td>7.0</td>\n",
              "      <td>1.0</td>\n",
              "      <td>-8.0</td>\n",
              "      <td>7.0</td>\n",
              "      <td>21.0</td>\n",
              "      <td>114.0</td>\n",
              "      <td>48.0</td>\n",
              "      <td>0</td>\n",
              "    </tr>\n",
              "    <tr>\n",
              "      <th>3</th>\n",
              "      <td>2.0</td>\n",
              "      <td>3.0</td>\n",
              "      <td>0.0</td>\n",
              "      <td>2.0</td>\n",
              "      <td>0.0</td>\n",
              "      <td>22.0</td>\n",
              "      <td>106.0</td>\n",
              "      <td>-14.0</td>\n",
              "      <td>-16.0</td>\n",
              "      <td>-2.0</td>\n",
              "      <td>-3.0</td>\n",
              "      <td>-4.0</td>\n",
              "      <td>18.0</td>\n",
              "      <td>21.0</td>\n",
              "      <td>-9.0</td>\n",
              "      <td>2.0</td>\n",
              "      <td>-8.0</td>\n",
              "      <td>0.0</td>\n",
              "      <td>3.0</td>\n",
              "      <td>5.0</td>\n",
              "      <td>-14.0</td>\n",
              "      <td>-15.0</td>\n",
              "      <td>13.0</td>\n",
              "      <td>-13.0</td>\n",
              "      <td>11.0</td>\n",
              "      <td>-4.0</td>\n",
              "      <td>-5.0</td>\n",
              "      <td>-8.0</td>\n",
              "      <td>-30.0</td>\n",
              "      <td>-27.0</td>\n",
              "      <td>-128.0</td>\n",
              "      <td>-22.0</td>\n",
              "      <td>-3.0</td>\n",
              "      <td>-5.0</td>\n",
              "      <td>-8.0</td>\n",
              "      <td>0.0</td>\n",
              "      <td>25.0</td>\n",
              "      <td>-9.0</td>\n",
              "      <td>-28.0</td>\n",
              "      <td>2.0</td>\n",
              "      <td>-22.0</td>\n",
              "      <td>8.0</td>\n",
              "      <td>8.0</td>\n",
              "      <td>-2.0</td>\n",
              "      <td>2.0</td>\n",
              "      <td>12.0</td>\n",
              "      <td>53.0</td>\n",
              "      <td>20.0</td>\n",
              "      <td>28.0</td>\n",
              "      <td>-9.0</td>\n",
              "      <td>-5.0</td>\n",
              "      <td>-5.0</td>\n",
              "      <td>-7.0</td>\n",
              "      <td>-7.0</td>\n",
              "      <td>-54.0</td>\n",
              "      <td>-38.0</td>\n",
              "      <td>-11.0</td>\n",
              "      <td>4.0</td>\n",
              "      <td>7.0</td>\n",
              "      <td>11.0</td>\n",
              "      <td>33.0</td>\n",
              "      <td>39.0</td>\n",
              "      <td>119.0</td>\n",
              "      <td>43.0</td>\n",
              "      <td>0</td>\n",
              "    </tr>\n",
              "    <tr>\n",
              "      <th>4</th>\n",
              "      <td>6.0</td>\n",
              "      <td>0.0</td>\n",
              "      <td>0.0</td>\n",
              "      <td>-2.0</td>\n",
              "      <td>-14.0</td>\n",
              "      <td>10.0</td>\n",
              "      <td>-51.0</td>\n",
              "      <td>5.0</td>\n",
              "      <td>7.0</td>\n",
              "      <td>0.0</td>\n",
              "      <td>4.0</td>\n",
              "      <td>13.0</td>\n",
              "      <td>13.0</td>\n",
              "      <td>-16.0</td>\n",
              "      <td>-45.0</td>\n",
              "      <td>-7.0</td>\n",
              "      <td>-84.0</td>\n",
              "      <td>-8.0</td>\n",
              "      <td>-3.0</td>\n",
              "      <td>-4.0</td>\n",
              "      <td>-36.0</td>\n",
              "      <td>-26.0</td>\n",
              "      <td>-128.0</td>\n",
              "      <td>-55.0</td>\n",
              "      <td>75.0</td>\n",
              "      <td>3.0</td>\n",
              "      <td>-8.0</td>\n",
              "      <td>-12.0</td>\n",
              "      <td>14.0</td>\n",
              "      <td>12.0</td>\n",
              "      <td>87.0</td>\n",
              "      <td>56.0</td>\n",
              "      <td>-3.0</td>\n",
              "      <td>2.0</td>\n",
              "      <td>0.0</td>\n",
              "      <td>-7.0</td>\n",
              "      <td>4.0</td>\n",
              "      <td>15.0</td>\n",
              "      <td>-13.0</td>\n",
              "      <td>0.0</td>\n",
              "      <td>-15.0</td>\n",
              "      <td>1.0</td>\n",
              "      <td>3.0</td>\n",
              "      <td>8.0</td>\n",
              "      <td>-2.0</td>\n",
              "      <td>-6.0</td>\n",
              "      <td>-55.0</td>\n",
              "      <td>-24.0</td>\n",
              "      <td>1.0</td>\n",
              "      <td>5.0</td>\n",
              "      <td>5.0</td>\n",
              "      <td>2.0</td>\n",
              "      <td>11.0</td>\n",
              "      <td>12.0</td>\n",
              "      <td>60.0</td>\n",
              "      <td>38.0</td>\n",
              "      <td>-35.0</td>\n",
              "      <td>-8.0</td>\n",
              "      <td>2.0</td>\n",
              "      <td>6.0</td>\n",
              "      <td>-13.0</td>\n",
              "      <td>-24.0</td>\n",
              "      <td>-112.0</td>\n",
              "      <td>-69.0</td>\n",
              "      <td>0</td>\n",
              "    </tr>\n",
              "  </tbody>\n",
              "</table>\n",
              "</div>"
            ],
            "text/plain": [
              "     0    1    2    3     4     5   ...    59    60    61     62    63  64\n",
              "0  26.0  4.0  5.0  8.0  -1.0 -13.0  ...   5.0   4.0  -7.0  -59.0  16.0   0\n",
              "1 -47.0 -6.0 -5.0 -7.0  13.0  -1.0  ...   5.0  13.0  21.0  111.0  15.0   0\n",
              "2 -19.0 -8.0 -8.0 -8.0 -21.0  -6.0  ...  -8.0   7.0  21.0  114.0  48.0   0\n",
              "3   2.0  3.0  0.0  2.0   0.0  22.0  ...  11.0  33.0  39.0  119.0  43.0   0\n",
              "4   6.0  0.0  0.0 -2.0 -14.0  10.0  ...   6.0 -13.0 -24.0 -112.0 -69.0   0\n",
              "\n",
              "[5 rows x 65 columns]"
            ]
          },
          "metadata": {},
          "execution_count": 150
        }
      ]
    },
    {
      "cell_type": "code",
      "metadata": {
        "colab": {
          "base_uri": "https://localhost:8080/",
          "height": 223
        },
        "id": "QkCw_hnAXVhh",
        "outputId": "28c1651b-ceb4-4e93-f0cc-a3471a779876"
      },
      "source": [
        "frame.columns = frame.columns.map(str)\n",
        "#frame=frame.rename(columns = {0:'a',64:'new_name'})\n",
        "frame.head()"
      ],
      "execution_count": null,
      "outputs": [
        {
          "output_type": "execute_result",
          "data": {
            "text/html": [
              "<div>\n",
              "<style scoped>\n",
              "    .dataframe tbody tr th:only-of-type {\n",
              "        vertical-align: middle;\n",
              "    }\n",
              "\n",
              "    .dataframe tbody tr th {\n",
              "        vertical-align: top;\n",
              "    }\n",
              "\n",
              "    .dataframe thead th {\n",
              "        text-align: right;\n",
              "    }\n",
              "</style>\n",
              "<table border=\"1\" class=\"dataframe\">\n",
              "  <thead>\n",
              "    <tr style=\"text-align: right;\">\n",
              "      <th></th>\n",
              "      <th>0</th>\n",
              "      <th>1</th>\n",
              "      <th>2</th>\n",
              "      <th>3</th>\n",
              "      <th>4</th>\n",
              "      <th>5</th>\n",
              "      <th>6</th>\n",
              "      <th>7</th>\n",
              "      <th>8</th>\n",
              "      <th>9</th>\n",
              "      <th>10</th>\n",
              "      <th>11</th>\n",
              "      <th>12</th>\n",
              "      <th>13</th>\n",
              "      <th>14</th>\n",
              "      <th>15</th>\n",
              "      <th>16</th>\n",
              "      <th>17</th>\n",
              "      <th>18</th>\n",
              "      <th>19</th>\n",
              "      <th>20</th>\n",
              "      <th>21</th>\n",
              "      <th>22</th>\n",
              "      <th>23</th>\n",
              "      <th>24</th>\n",
              "      <th>25</th>\n",
              "      <th>26</th>\n",
              "      <th>27</th>\n",
              "      <th>28</th>\n",
              "      <th>29</th>\n",
              "      <th>30</th>\n",
              "      <th>31</th>\n",
              "      <th>32</th>\n",
              "      <th>33</th>\n",
              "      <th>34</th>\n",
              "      <th>35</th>\n",
              "      <th>36</th>\n",
              "      <th>37</th>\n",
              "      <th>38</th>\n",
              "      <th>39</th>\n",
              "      <th>40</th>\n",
              "      <th>41</th>\n",
              "      <th>42</th>\n",
              "      <th>43</th>\n",
              "      <th>44</th>\n",
              "      <th>45</th>\n",
              "      <th>46</th>\n",
              "      <th>47</th>\n",
              "      <th>48</th>\n",
              "      <th>49</th>\n",
              "      <th>50</th>\n",
              "      <th>51</th>\n",
              "      <th>52</th>\n",
              "      <th>53</th>\n",
              "      <th>54</th>\n",
              "      <th>55</th>\n",
              "      <th>56</th>\n",
              "      <th>57</th>\n",
              "      <th>58</th>\n",
              "      <th>59</th>\n",
              "      <th>60</th>\n",
              "      <th>61</th>\n",
              "      <th>62</th>\n",
              "      <th>63</th>\n",
              "      <th>64</th>\n",
              "    </tr>\n",
              "  </thead>\n",
              "  <tbody>\n",
              "    <tr>\n",
              "      <th>0</th>\n",
              "      <td>26.0</td>\n",
              "      <td>4.0</td>\n",
              "      <td>5.0</td>\n",
              "      <td>8.0</td>\n",
              "      <td>-1.0</td>\n",
              "      <td>-13.0</td>\n",
              "      <td>-109.0</td>\n",
              "      <td>-66.0</td>\n",
              "      <td>-9.0</td>\n",
              "      <td>2.0</td>\n",
              "      <td>4.0</td>\n",
              "      <td>13.0</td>\n",
              "      <td>-18.0</td>\n",
              "      <td>-30.0</td>\n",
              "      <td>-119.0</td>\n",
              "      <td>-45.0</td>\n",
              "      <td>17.0</td>\n",
              "      <td>6.0</td>\n",
              "      <td>-1.0</td>\n",
              "      <td>-9.0</td>\n",
              "      <td>27.0</td>\n",
              "      <td>20.0</td>\n",
              "      <td>91.0</td>\n",
              "      <td>71.0</td>\n",
              "      <td>-26.0</td>\n",
              "      <td>-1.0</td>\n",
              "      <td>0.0</td>\n",
              "      <td>1.0</td>\n",
              "      <td>13.0</td>\n",
              "      <td>20.0</td>\n",
              "      <td>-62.0</td>\n",
              "      <td>-19.0</td>\n",
              "      <td>29.0</td>\n",
              "      <td>2.0</td>\n",
              "      <td>2.0</td>\n",
              "      <td>0.0</td>\n",
              "      <td>-23.0</td>\n",
              "      <td>-1.0</td>\n",
              "      <td>-80.0</td>\n",
              "      <td>4.0</td>\n",
              "      <td>-7.0</td>\n",
              "      <td>-6.0</td>\n",
              "      <td>-12.0</td>\n",
              "      <td>-27.0</td>\n",
              "      <td>-11.0</td>\n",
              "      <td>-16.0</td>\n",
              "      <td>-67.0</td>\n",
              "      <td>-8.0</td>\n",
              "      <td>-27.0</td>\n",
              "      <td>1.0</td>\n",
              "      <td>1.0</td>\n",
              "      <td>13.0</td>\n",
              "      <td>-8.0</td>\n",
              "      <td>-11.0</td>\n",
              "      <td>21.0</td>\n",
              "      <td>-28.0</td>\n",
              "      <td>61.0</td>\n",
              "      <td>4.0</td>\n",
              "      <td>8.0</td>\n",
              "      <td>5.0</td>\n",
              "      <td>4.0</td>\n",
              "      <td>-7.0</td>\n",
              "      <td>-59.0</td>\n",
              "      <td>16.0</td>\n",
              "      <td>0</td>\n",
              "    </tr>\n",
              "    <tr>\n",
              "      <th>1</th>\n",
              "      <td>-47.0</td>\n",
              "      <td>-6.0</td>\n",
              "      <td>-5.0</td>\n",
              "      <td>-7.0</td>\n",
              "      <td>13.0</td>\n",
              "      <td>-1.0</td>\n",
              "      <td>35.0</td>\n",
              "      <td>-10.0</td>\n",
              "      <td>10.0</td>\n",
              "      <td>-4.0</td>\n",
              "      <td>0.0</td>\n",
              "      <td>7.0</td>\n",
              "      <td>-31.0</td>\n",
              "      <td>-33.0</td>\n",
              "      <td>-48.0</td>\n",
              "      <td>-52.0</td>\n",
              "      <td>34.0</td>\n",
              "      <td>10.0</td>\n",
              "      <td>5.0</td>\n",
              "      <td>-9.0</td>\n",
              "      <td>23.0</td>\n",
              "      <td>63.0</td>\n",
              "      <td>76.0</td>\n",
              "      <td>49.0</td>\n",
              "      <td>-27.0</td>\n",
              "      <td>-7.0</td>\n",
              "      <td>-7.0</td>\n",
              "      <td>-3.0</td>\n",
              "      <td>0.0</td>\n",
              "      <td>4.0</td>\n",
              "      <td>-111.0</td>\n",
              "      <td>-2.0</td>\n",
              "      <td>-7.0</td>\n",
              "      <td>7.0</td>\n",
              "      <td>11.0</td>\n",
              "      <td>11.0</td>\n",
              "      <td>2.0</td>\n",
              "      <td>2.0</td>\n",
              "      <td>76.0</td>\n",
              "      <td>3.0</td>\n",
              "      <td>7.0</td>\n",
              "      <td>-2.0</td>\n",
              "      <td>0.0</td>\n",
              "      <td>-6.0</td>\n",
              "      <td>21.0</td>\n",
              "      <td>-3.0</td>\n",
              "      <td>0.0</td>\n",
              "      <td>-8.0</td>\n",
              "      <td>-40.0</td>\n",
              "      <td>-4.0</td>\n",
              "      <td>-1.0</td>\n",
              "      <td>6.0</td>\n",
              "      <td>-2.0</td>\n",
              "      <td>-2.0</td>\n",
              "      <td>-105.0</td>\n",
              "      <td>-25.0</td>\n",
              "      <td>47.0</td>\n",
              "      <td>6.0</td>\n",
              "      <td>6.0</td>\n",
              "      <td>5.0</td>\n",
              "      <td>13.0</td>\n",
              "      <td>21.0</td>\n",
              "      <td>111.0</td>\n",
              "      <td>15.0</td>\n",
              "      <td>0</td>\n",
              "    </tr>\n",
              "    <tr>\n",
              "      <th>2</th>\n",
              "      <td>-19.0</td>\n",
              "      <td>-8.0</td>\n",
              "      <td>-8.0</td>\n",
              "      <td>-8.0</td>\n",
              "      <td>-21.0</td>\n",
              "      <td>-6.0</td>\n",
              "      <td>-79.0</td>\n",
              "      <td>12.0</td>\n",
              "      <td>0.0</td>\n",
              "      <td>5.0</td>\n",
              "      <td>4.0</td>\n",
              "      <td>16.0</td>\n",
              "      <td>24.0</td>\n",
              "      <td>9.0</td>\n",
              "      <td>33.0</td>\n",
              "      <td>34.0</td>\n",
              "      <td>-1.0</td>\n",
              "      <td>-4.0</td>\n",
              "      <td>-3.0</td>\n",
              "      <td>-6.0</td>\n",
              "      <td>-7.0</td>\n",
              "      <td>-11.0</td>\n",
              "      <td>-85.0</td>\n",
              "      <td>-12.0</td>\n",
              "      <td>-10.0</td>\n",
              "      <td>-2.0</td>\n",
              "      <td>-3.0</td>\n",
              "      <td>-2.0</td>\n",
              "      <td>-8.0</td>\n",
              "      <td>-30.0</td>\n",
              "      <td>-16.0</td>\n",
              "      <td>-22.0</td>\n",
              "      <td>-21.0</td>\n",
              "      <td>-7.0</td>\n",
              "      <td>-8.0</td>\n",
              "      <td>-12.0</td>\n",
              "      <td>-14.0</td>\n",
              "      <td>-18.0</td>\n",
              "      <td>-76.0</td>\n",
              "      <td>-44.0</td>\n",
              "      <td>27.0</td>\n",
              "      <td>7.0</td>\n",
              "      <td>4.0</td>\n",
              "      <td>-4.0</td>\n",
              "      <td>-10.0</td>\n",
              "      <td>23.0</td>\n",
              "      <td>127.0</td>\n",
              "      <td>69.0</td>\n",
              "      <td>-25.0</td>\n",
              "      <td>-12.0</td>\n",
              "      <td>-9.0</td>\n",
              "      <td>1.0</td>\n",
              "      <td>18.0</td>\n",
              "      <td>-33.0</td>\n",
              "      <td>-128.0</td>\n",
              "      <td>-83.0</td>\n",
              "      <td>7.0</td>\n",
              "      <td>7.0</td>\n",
              "      <td>1.0</td>\n",
              "      <td>-8.0</td>\n",
              "      <td>7.0</td>\n",
              "      <td>21.0</td>\n",
              "      <td>114.0</td>\n",
              "      <td>48.0</td>\n",
              "      <td>0</td>\n",
              "    </tr>\n",
              "    <tr>\n",
              "      <th>3</th>\n",
              "      <td>2.0</td>\n",
              "      <td>3.0</td>\n",
              "      <td>0.0</td>\n",
              "      <td>2.0</td>\n",
              "      <td>0.0</td>\n",
              "      <td>22.0</td>\n",
              "      <td>106.0</td>\n",
              "      <td>-14.0</td>\n",
              "      <td>-16.0</td>\n",
              "      <td>-2.0</td>\n",
              "      <td>-3.0</td>\n",
              "      <td>-4.0</td>\n",
              "      <td>18.0</td>\n",
              "      <td>21.0</td>\n",
              "      <td>-9.0</td>\n",
              "      <td>2.0</td>\n",
              "      <td>-8.0</td>\n",
              "      <td>0.0</td>\n",
              "      <td>3.0</td>\n",
              "      <td>5.0</td>\n",
              "      <td>-14.0</td>\n",
              "      <td>-15.0</td>\n",
              "      <td>13.0</td>\n",
              "      <td>-13.0</td>\n",
              "      <td>11.0</td>\n",
              "      <td>-4.0</td>\n",
              "      <td>-5.0</td>\n",
              "      <td>-8.0</td>\n",
              "      <td>-30.0</td>\n",
              "      <td>-27.0</td>\n",
              "      <td>-128.0</td>\n",
              "      <td>-22.0</td>\n",
              "      <td>-3.0</td>\n",
              "      <td>-5.0</td>\n",
              "      <td>-8.0</td>\n",
              "      <td>0.0</td>\n",
              "      <td>25.0</td>\n",
              "      <td>-9.0</td>\n",
              "      <td>-28.0</td>\n",
              "      <td>2.0</td>\n",
              "      <td>-22.0</td>\n",
              "      <td>8.0</td>\n",
              "      <td>8.0</td>\n",
              "      <td>-2.0</td>\n",
              "      <td>2.0</td>\n",
              "      <td>12.0</td>\n",
              "      <td>53.0</td>\n",
              "      <td>20.0</td>\n",
              "      <td>28.0</td>\n",
              "      <td>-9.0</td>\n",
              "      <td>-5.0</td>\n",
              "      <td>-5.0</td>\n",
              "      <td>-7.0</td>\n",
              "      <td>-7.0</td>\n",
              "      <td>-54.0</td>\n",
              "      <td>-38.0</td>\n",
              "      <td>-11.0</td>\n",
              "      <td>4.0</td>\n",
              "      <td>7.0</td>\n",
              "      <td>11.0</td>\n",
              "      <td>33.0</td>\n",
              "      <td>39.0</td>\n",
              "      <td>119.0</td>\n",
              "      <td>43.0</td>\n",
              "      <td>0</td>\n",
              "    </tr>\n",
              "    <tr>\n",
              "      <th>4</th>\n",
              "      <td>6.0</td>\n",
              "      <td>0.0</td>\n",
              "      <td>0.0</td>\n",
              "      <td>-2.0</td>\n",
              "      <td>-14.0</td>\n",
              "      <td>10.0</td>\n",
              "      <td>-51.0</td>\n",
              "      <td>5.0</td>\n",
              "      <td>7.0</td>\n",
              "      <td>0.0</td>\n",
              "      <td>4.0</td>\n",
              "      <td>13.0</td>\n",
              "      <td>13.0</td>\n",
              "      <td>-16.0</td>\n",
              "      <td>-45.0</td>\n",
              "      <td>-7.0</td>\n",
              "      <td>-84.0</td>\n",
              "      <td>-8.0</td>\n",
              "      <td>-3.0</td>\n",
              "      <td>-4.0</td>\n",
              "      <td>-36.0</td>\n",
              "      <td>-26.0</td>\n",
              "      <td>-128.0</td>\n",
              "      <td>-55.0</td>\n",
              "      <td>75.0</td>\n",
              "      <td>3.0</td>\n",
              "      <td>-8.0</td>\n",
              "      <td>-12.0</td>\n",
              "      <td>14.0</td>\n",
              "      <td>12.0</td>\n",
              "      <td>87.0</td>\n",
              "      <td>56.0</td>\n",
              "      <td>-3.0</td>\n",
              "      <td>2.0</td>\n",
              "      <td>0.0</td>\n",
              "      <td>-7.0</td>\n",
              "      <td>4.0</td>\n",
              "      <td>15.0</td>\n",
              "      <td>-13.0</td>\n",
              "      <td>0.0</td>\n",
              "      <td>-15.0</td>\n",
              "      <td>1.0</td>\n",
              "      <td>3.0</td>\n",
              "      <td>8.0</td>\n",
              "      <td>-2.0</td>\n",
              "      <td>-6.0</td>\n",
              "      <td>-55.0</td>\n",
              "      <td>-24.0</td>\n",
              "      <td>1.0</td>\n",
              "      <td>5.0</td>\n",
              "      <td>5.0</td>\n",
              "      <td>2.0</td>\n",
              "      <td>11.0</td>\n",
              "      <td>12.0</td>\n",
              "      <td>60.0</td>\n",
              "      <td>38.0</td>\n",
              "      <td>-35.0</td>\n",
              "      <td>-8.0</td>\n",
              "      <td>2.0</td>\n",
              "      <td>6.0</td>\n",
              "      <td>-13.0</td>\n",
              "      <td>-24.0</td>\n",
              "      <td>-112.0</td>\n",
              "      <td>-69.0</td>\n",
              "      <td>0</td>\n",
              "    </tr>\n",
              "  </tbody>\n",
              "</table>\n",
              "</div>"
            ],
            "text/plain": [
              "      0    1    2    3     4     5  ...    59    60    61     62    63  64\n",
              "0  26.0  4.0  5.0  8.0  -1.0 -13.0  ...   5.0   4.0  -7.0  -59.0  16.0   0\n",
              "1 -47.0 -6.0 -5.0 -7.0  13.0  -1.0  ...   5.0  13.0  21.0  111.0  15.0   0\n",
              "2 -19.0 -8.0 -8.0 -8.0 -21.0  -6.0  ...  -8.0   7.0  21.0  114.0  48.0   0\n",
              "3   2.0  3.0  0.0  2.0   0.0  22.0  ...  11.0  33.0  39.0  119.0  43.0   0\n",
              "4   6.0  0.0  0.0 -2.0 -14.0  10.0  ...   6.0 -13.0 -24.0 -112.0 -69.0   0\n",
              "\n",
              "[5 rows x 65 columns]"
            ]
          },
          "metadata": {},
          "execution_count": 151
        }
      ]
    },
    {
      "cell_type": "code",
      "metadata": {
        "id": "HqghOsuJXZym"
      },
      "source": [
        "#As gestures classes is integer, it is discrete dataype, it is a supervised problem , last column(classes) is the target variable\n",
        "#As this would a classification task, taking Accuracy and F1 score as performance criteria"
      ],
      "execution_count": null,
      "outputs": []
    },
    {
      "cell_type": "code",
      "metadata": {
        "colab": {
          "base_uri": "https://localhost:8080/"
        },
        "id": "so-grrnbX18M",
        "outputId": "185dd1c9-e173-4b96-c8e6-e43f8dd31c91"
      },
      "source": [
        "print(data.isnull().sum())\n",
        "#No null values"
      ],
      "execution_count": null,
      "outputs": [
        {
          "output_type": "stream",
          "name": "stdout",
          "text": [
            "Rented Bike Count            0\n",
            "Hour                         0\n",
            "Temperature(°C)              0\n",
            "Humidity(%)                  0\n",
            "Wind speed (m/s)             0\n",
            "Visibility (10m)             0\n",
            "Dew point temperature(°C)    0\n",
            "Solar Radiation (MJ/m2)      0\n",
            "Rainfall(mm)                 0\n",
            "Snowfall (cm)                0\n",
            "Seasons                      0\n",
            "Holiday                      0\n",
            "Functioning Day              0\n",
            "dtype: int64\n"
          ]
        }
      ]
    },
    {
      "cell_type": "code",
      "metadata": {
        "colab": {
          "base_uri": "https://localhost:8080/",
          "height": 1000
        },
        "id": "4Vzrm9aWXv1p",
        "outputId": "6bf4f6af-d5c6-4ac4-e059-9dff29c8a3d1"
      },
      "source": [
        "data=frame.copy()\n",
        "for feature in data.columns[:10]:\n",
        "    sns.boxplot(x=\"64\", y=feature, data=data)\n",
        "    plt.xlabel(feature)\n",
        "    plt.show()"
      ],
      "execution_count": null,
      "outputs": [
        {
          "output_type": "display_data",
          "data": {
            "image/png": "[encoded data removed]",
            "text/plain": [
              "<Figure size 432x288 with 1 Axes>"
            ]
          },
          "metadata": {
            "needs_background": "light"
          }
        },
        {
          "output_type": "display_data",
          "data": {
            "image/png": "[encoded data removed]",
            "text/plain": [
              "<Figure size 432x288 with 1 Axes>"
            ]
          },
          "metadata": {
            "needs_background": "light"
          }
        },
        {
          "output_type": "display_data",
          "data": {
            "image/png": "[encoded data removed]",
            "text/plain": [
              "<Figure size 432x288 with 1 Axes>"
            ]
          },
          "metadata": {
            "needs_background": "light"
          }
        },
        {
          "output_type": "display_data",
          "data": {
            "image/png": "[encoded data removed]",
            "text/plain": [
              "<Figure size 432x288 with 1 Axes>"
            ]
          },
          "metadata": {
            "needs_background": "light"
          }
        },
        {
          "output_type": "display_data",
          "data": {
            "image/png": "[encoded data removed]",
            "text/plain": [
              "<Figure size 432x288 with 1 Axes>"
            ]
          },
          "metadata": {
            "needs_background": "light"
          }
        },
        {
          "output_type": "display_data",
          "data": {
            "image/png": "[encoded data removed]",
            "text/plain": [
              "<Figure size 432x288 with 1 Axes>"
            ]
          },
          "metadata": {
            "needs_background": "light"
          }
        },
        {
          "output_type": "display_data",
          "data": {
            "image/png": "[encoded data removed]",
            "text/plain": [
              "<Figure size 432x288 with 1 Axes>"
            ]
          },
          "metadata": {
            "needs_background": "light"
          }
        },
        {
          "output_type": "display_data",
          "data": {
            "image/png": "[encoded data removed]",
            "text/plain": [
              "<Figure size 432x288 with 1 Axes>"
            ]
          },
          "metadata": {
            "needs_background": "light"
          }
        },
        {
          "output_type": "display_data",
          "data": {
            "image/png": "[encoded data removed]",
            "text/plain": [
              "<Figure size 432x288 with 1 Axes>"
            ]
          },
          "metadata": {
            "needs_background": "light"
          }
        },
        {
          "output_type": "display_data",
          "data": {
            "image/png": "[encoded data removed]",
            "text/plain": [
              "<Figure size 432x288 with 1 Axes>"
            ]
          },
          "metadata": {
            "needs_background": "light"
          }
        }
      ]
    },
    {
      "cell_type": "code",
      "metadata": {
        "colab": {
          "base_uri": "https://localhost:8080/",
          "height": 417
        },
        "id": "RzieT4QlYJAd",
        "outputId": "130dd920-8ce8-4843-ff90-bdf44438c4d3"
      },
      "source": [
        "df2 = data.copy()\n",
        "from sklearn.tree import DecisionTreeRegressor\n",
        "from sklearn.model_selection import train_test_split \n",
        "xtrain,xtest,ytrain,ytest = train_test_split(df2.iloc[:,1:],df2.iloc[:,0],test_size=0.2)\n",
        "from statsmodels.stats.outliers_influence import variance_inflation_factor\n",
        "vif=pd.DataFrame()\n",
        "vif['VIF']=[variance_inflation_factor(xtrain.values,i) for i in range(xtrain.shape[1])]   \n",
        "vif['features']=xtrain.columns\n",
        "vif.sort_values('VIF',ascending=False)"
      ],
      "execution_count": null,
      "outputs": [
        {
          "output_type": "execute_result",
          "data": {
            "text/html": [
              "<div>\n",
              "<style scoped>\n",
              "    .dataframe tbody tr th:only-of-type {\n",
              "        vertical-align: middle;\n",
              "    }\n",
              "\n",
              "    .dataframe tbody tr th {\n",
              "        vertical-align: top;\n",
              "    }\n",
              "\n",
              "    .dataframe thead th {\n",
              "        text-align: right;\n",
              "    }\n",
              "</style>\n",
              "<table border=\"1\" class=\"dataframe\">\n",
              "  <thead>\n",
              "    <tr style=\"text-align: right;\">\n",
              "      <th></th>\n",
              "      <th>VIF</th>\n",
              "      <th>features</th>\n",
              "    </tr>\n",
              "  </thead>\n",
              "  <tbody>\n",
              "    <tr>\n",
              "      <th>27</th>\n",
              "      <td>2.551931</td>\n",
              "      <td>28</td>\n",
              "    </tr>\n",
              "    <tr>\n",
              "      <th>19</th>\n",
              "      <td>2.513582</td>\n",
              "      <td>20</td>\n",
              "    </tr>\n",
              "    <tr>\n",
              "      <th>35</th>\n",
              "      <td>2.484560</td>\n",
              "      <td>36</td>\n",
              "    </tr>\n",
              "    <tr>\n",
              "      <th>43</th>\n",
              "      <td>2.465748</td>\n",
              "      <td>44</td>\n",
              "    </tr>\n",
              "    <tr>\n",
              "      <th>26</th>\n",
              "      <td>2.301049</td>\n",
              "      <td>27</td>\n",
              "    </tr>\n",
              "    <tr>\n",
              "      <th>...</th>\n",
              "      <td>...</td>\n",
              "      <td>...</td>\n",
              "    </tr>\n",
              "    <tr>\n",
              "      <th>55</th>\n",
              "      <td>1.464097</td>\n",
              "      <td>56</td>\n",
              "    </tr>\n",
              "    <tr>\n",
              "      <th>56</th>\n",
              "      <td>1.457287</td>\n",
              "      <td>57</td>\n",
              "    </tr>\n",
              "    <tr>\n",
              "      <th>7</th>\n",
              "      <td>1.440428</td>\n",
              "      <td>8</td>\n",
              "    </tr>\n",
              "    <tr>\n",
              "      <th>63</th>\n",
              "      <td>1.394675</td>\n",
              "      <td>64</td>\n",
              "    </tr>\n",
              "    <tr>\n",
              "      <th>0</th>\n",
              "      <td>1.362187</td>\n",
              "      <td>1</td>\n",
              "    </tr>\n",
              "  </tbody>\n",
              "</table>\n",
              "<p>64 rows × 2 columns</p>\n",
              "</div>"
            ],
            "text/plain": [
              "         VIF features\n",
              "27  2.551931       28\n",
              "19  2.513582       20\n",
              "35  2.484560       36\n",
              "43  2.465748       44\n",
              "26  2.301049       27\n",
              "..       ...      ...\n",
              "55  1.464097       56\n",
              "56  1.457287       57\n",
              "7   1.440428        8\n",
              "63  1.394675       64\n",
              "0   1.362187        1\n",
              "\n",
              "[64 rows x 2 columns]"
            ]
          },
          "metadata": {},
          "execution_count": 155
        }
      ]
    },
    {
      "cell_type": "code",
      "metadata": {
        "id": "MvU9PICRYeoZ"
      },
      "source": [
        "#We generally drop variables with VIF>10 but as can be seen there are no feature with >10VIF, so we won't drop any feature\n",
        "#Initial try with decision trees regressor\n",
        "score_c = pd.DataFrame()"
      ],
      "execution_count": null,
      "outputs": []
    },
    {
      "cell_type": "code",
      "metadata": {
        "colab": {
          "base_uri": "https://localhost:8080/",
          "height": 223
        },
        "id": "5jQWREk2YyKC",
        "outputId": "6288207e-0db7-44bc-fe04-abf2a819e6d4"
      },
      "source": [
        "df2 = data.copy()\n",
        "df2.head()"
      ],
      "execution_count": null,
      "outputs": [
        {
          "output_type": "execute_result",
          "data": {
            "text/html": [
              "<div>\n",
              "<style scoped>\n",
              "    .dataframe tbody tr th:only-of-type {\n",
              "        vertical-align: middle;\n",
              "    }\n",
              "\n",
              "    .dataframe tbody tr th {\n",
              "        vertical-align: top;\n",
              "    }\n",
              "\n",
              "    .dataframe thead th {\n",
              "        text-align: right;\n",
              "    }\n",
              "</style>\n",
              "<table border=\"1\" class=\"dataframe\">\n",
              "  <thead>\n",
              "    <tr style=\"text-align: right;\">\n",
              "      <th></th>\n",
              "      <th>0</th>\n",
              "      <th>1</th>\n",
              "      <th>2</th>\n",
              "      <th>3</th>\n",
              "      <th>4</th>\n",
              "      <th>5</th>\n",
              "      <th>6</th>\n",
              "      <th>7</th>\n",
              "      <th>8</th>\n",
              "      <th>9</th>\n",
              "      <th>10</th>\n",
              "      <th>11</th>\n",
              "      <th>12</th>\n",
              "      <th>13</th>\n",
              "      <th>14</th>\n",
              "      <th>15</th>\n",
              "      <th>16</th>\n",
              "      <th>17</th>\n",
              "      <th>18</th>\n",
              "      <th>19</th>\n",
              "      <th>20</th>\n",
              "      <th>21</th>\n",
              "      <th>22</th>\n",
              "      <th>23</th>\n",
              "      <th>24</th>\n",
              "      <th>25</th>\n",
              "      <th>26</th>\n",
              "      <th>27</th>\n",
              "      <th>28</th>\n",
              "      <th>29</th>\n",
              "      <th>30</th>\n",
              "      <th>31</th>\n",
              "      <th>32</th>\n",
              "      <th>33</th>\n",
              "      <th>34</th>\n",
              "      <th>35</th>\n",
              "      <th>36</th>\n",
              "      <th>37</th>\n",
              "      <th>38</th>\n",
              "      <th>39</th>\n",
              "      <th>40</th>\n",
              "      <th>41</th>\n",
              "      <th>42</th>\n",
              "      <th>43</th>\n",
              "      <th>44</th>\n",
              "      <th>45</th>\n",
              "      <th>46</th>\n",
              "      <th>47</th>\n",
              "      <th>48</th>\n",
              "      <th>49</th>\n",
              "      <th>50</th>\n",
              "      <th>51</th>\n",
              "      <th>52</th>\n",
              "      <th>53</th>\n",
              "      <th>54</th>\n",
              "      <th>55</th>\n",
              "      <th>56</th>\n",
              "      <th>57</th>\n",
              "      <th>58</th>\n",
              "      <th>59</th>\n",
              "      <th>60</th>\n",
              "      <th>61</th>\n",
              "      <th>62</th>\n",
              "      <th>63</th>\n",
              "      <th>64</th>\n",
              "    </tr>\n",
              "  </thead>\n",
              "  <tbody>\n",
              "    <tr>\n",
              "      <th>0</th>\n",
              "      <td>26.0</td>\n",
              "      <td>4.0</td>\n",
              "      <td>5.0</td>\n",
              "      <td>8.0</td>\n",
              "      <td>-1.0</td>\n",
              "      <td>-13.0</td>\n",
              "      <td>-109.0</td>\n",
              "      <td>-66.0</td>\n",
              "      <td>-9.0</td>\n",
              "      <td>2.0</td>\n",
              "      <td>4.0</td>\n",
              "      <td>13.0</td>\n",
              "      <td>-18.0</td>\n",
              "      <td>-30.0</td>\n",
              "      <td>-119.0</td>\n",
              "      <td>-45.0</td>\n",
              "      <td>17.0</td>\n",
              "      <td>6.0</td>\n",
              "      <td>-1.0</td>\n",
              "      <td>-9.0</td>\n",
              "      <td>27.0</td>\n",
              "      <td>20.0</td>\n",
              "      <td>91.0</td>\n",
              "      <td>71.0</td>\n",
              "      <td>-26.0</td>\n",
              "      <td>-1.0</td>\n",
              "      <td>0.0</td>\n",
              "      <td>1.0</td>\n",
              "      <td>13.0</td>\n",
              "      <td>20.0</td>\n",
              "      <td>-62.0</td>\n",
              "      <td>-19.0</td>\n",
              "      <td>29.0</td>\n",
              "      <td>2.0</td>\n",
              "      <td>2.0</td>\n",
              "      <td>0.0</td>\n",
              "      <td>-23.0</td>\n",
              "      <td>-1.0</td>\n",
              "      <td>-80.0</td>\n",
              "      <td>4.0</td>\n",
              "      <td>-7.0</td>\n",
              "      <td>-6.0</td>\n",
              "      <td>-12.0</td>\n",
              "      <td>-27.0</td>\n",
              "      <td>-11.0</td>\n",
              "      <td>-16.0</td>\n",
              "      <td>-67.0</td>\n",
              "      <td>-8.0</td>\n",
              "      <td>-27.0</td>\n",
              "      <td>1.0</td>\n",
              "      <td>1.0</td>\n",
              "      <td>13.0</td>\n",
              "      <td>-8.0</td>\n",
              "      <td>-11.0</td>\n",
              "      <td>21.0</td>\n",
              "      <td>-28.0</td>\n",
              "      <td>61.0</td>\n",
              "      <td>4.0</td>\n",
              "      <td>8.0</td>\n",
              "      <td>5.0</td>\n",
              "      <td>4.0</td>\n",
              "      <td>-7.0</td>\n",
              "      <td>-59.0</td>\n",
              "      <td>16.0</td>\n",
              "      <td>0</td>\n",
              "    </tr>\n",
              "    <tr>\n",
              "      <th>1</th>\n",
              "      <td>-47.0</td>\n",
              "      <td>-6.0</td>\n",
              "      <td>-5.0</td>\n",
              "      <td>-7.0</td>\n",
              "      <td>13.0</td>\n",
              "      <td>-1.0</td>\n",
              "      <td>35.0</td>\n",
              "      <td>-10.0</td>\n",
              "      <td>10.0</td>\n",
              "      <td>-4.0</td>\n",
              "      <td>0.0</td>\n",
              "      <td>7.0</td>\n",
              "      <td>-31.0</td>\n",
              "      <td>-33.0</td>\n",
              "      <td>-48.0</td>\n",
              "      <td>-52.0</td>\n",
              "      <td>34.0</td>\n",
              "      <td>10.0</td>\n",
              "      <td>5.0</td>\n",
              "      <td>-9.0</td>\n",
              "      <td>23.0</td>\n",
              "      <td>63.0</td>\n",
              "      <td>76.0</td>\n",
              "      <td>49.0</td>\n",
              "      <td>-27.0</td>\n",
              "      <td>-7.0</td>\n",
              "      <td>-7.0</td>\n",
              "      <td>-3.0</td>\n",
              "      <td>0.0</td>\n",
              "      <td>4.0</td>\n",
              "      <td>-111.0</td>\n",
              "      <td>-2.0</td>\n",
              "      <td>-7.0</td>\n",
              "      <td>7.0</td>\n",
              "      <td>11.0</td>\n",
              "      <td>11.0</td>\n",
              "      <td>2.0</td>\n",
              "      <td>2.0</td>\n",
              "      <td>76.0</td>\n",
              "      <td>3.0</td>\n",
              "      <td>7.0</td>\n",
              "      <td>-2.0</td>\n",
              "      <td>0.0</td>\n",
              "      <td>-6.0</td>\n",
              "      <td>21.0</td>\n",
              "      <td>-3.0</td>\n",
              "      <td>0.0</td>\n",
              "      <td>-8.0</td>\n",
              "      <td>-40.0</td>\n",
              "      <td>-4.0</td>\n",
              "      <td>-1.0</td>\n",
              "      <td>6.0</td>\n",
              "      <td>-2.0</td>\n",
              "      <td>-2.0</td>\n",
              "      <td>-105.0</td>\n",
              "      <td>-25.0</td>\n",
              "      <td>47.0</td>\n",
              "      <td>6.0</td>\n",
              "      <td>6.0</td>\n",
              "      <td>5.0</td>\n",
              "      <td>13.0</td>\n",
              "      <td>21.0</td>\n",
              "      <td>111.0</td>\n",
              "      <td>15.0</td>\n",
              "      <td>0</td>\n",
              "    </tr>\n",
              "    <tr>\n",
              "      <th>2</th>\n",
              "      <td>-19.0</td>\n",
              "      <td>-8.0</td>\n",
              "      <td>-8.0</td>\n",
              "      <td>-8.0</td>\n",
              "      <td>-21.0</td>\n",
              "      <td>-6.0</td>\n",
              "      <td>-79.0</td>\n",
              "      <td>12.0</td>\n",
              "      <td>0.0</td>\n",
              "      <td>5.0</td>\n",
              "      <td>4.0</td>\n",
              "      <td>16.0</td>\n",
              "      <td>24.0</td>\n",
              "      <td>9.0</td>\n",
              "      <td>33.0</td>\n",
              "      <td>34.0</td>\n",
              "      <td>-1.0</td>\n",
              "      <td>-4.0</td>\n",
              "      <td>-3.0</td>\n",
              "      <td>-6.0</td>\n",
              "      <td>-7.0</td>\n",
              "      <td>-11.0</td>\n",
              "      <td>-85.0</td>\n",
              "      <td>-12.0</td>\n",
              "      <td>-10.0</td>\n",
              "      <td>-2.0</td>\n",
              "      <td>-3.0</td>\n",
              "      <td>-2.0</td>\n",
              "      <td>-8.0</td>\n",
              "      <td>-30.0</td>\n",
              "      <td>-16.0</td>\n",
              "      <td>-22.0</td>\n",
              "      <td>-21.0</td>\n",
              "      <td>-7.0</td>\n",
              "      <td>-8.0</td>\n",
              "      <td>-12.0</td>\n",
              "      <td>-14.0</td>\n",
              "      <td>-18.0</td>\n",
              "      <td>-76.0</td>\n",
              "      <td>-44.0</td>\n",
              "      <td>27.0</td>\n",
              "      <td>7.0</td>\n",
              "      <td>4.0</td>\n",
              "      <td>-4.0</td>\n",
              "      <td>-10.0</td>\n",
              "      <td>23.0</td>\n",
              "      <td>127.0</td>\n",
              "      <td>69.0</td>\n",
              "      <td>-25.0</td>\n",
              "      <td>-12.0</td>\n",
              "      <td>-9.0</td>\n",
              "      <td>1.0</td>\n",
              "      <td>18.0</td>\n",
              "      <td>-33.0</td>\n",
              "      <td>-128.0</td>\n",
              "      <td>-83.0</td>\n",
              "      <td>7.0</td>\n",
              "      <td>7.0</td>\n",
              "      <td>1.0</td>\n",
              "      <td>-8.0</td>\n",
              "      <td>7.0</td>\n",
              "      <td>21.0</td>\n",
              "      <td>114.0</td>\n",
              "      <td>48.0</td>\n",
              "      <td>0</td>\n",
              "    </tr>\n",
              "    <tr>\n",
              "      <th>3</th>\n",
              "      <td>2.0</td>\n",
              "      <td>3.0</td>\n",
              "      <td>0.0</td>\n",
              "      <td>2.0</td>\n",
              "      <td>0.0</td>\n",
              "      <td>22.0</td>\n",
              "      <td>106.0</td>\n",
              "      <td>-14.0</td>\n",
              "      <td>-16.0</td>\n",
              "      <td>-2.0</td>\n",
              "      <td>-3.0</td>\n",
              "      <td>-4.0</td>\n",
              "      <td>18.0</td>\n",
              "      <td>21.0</td>\n",
              "      <td>-9.0</td>\n",
              "      <td>2.0</td>\n",
              "      <td>-8.0</td>\n",
              "      <td>0.0</td>\n",
              "      <td>3.0</td>\n",
              "      <td>5.0</td>\n",
              "      <td>-14.0</td>\n",
              "      <td>-15.0</td>\n",
              "      <td>13.0</td>\n",
              "      <td>-13.0</td>\n",
              "      <td>11.0</td>\n",
              "      <td>-4.0</td>\n",
              "      <td>-5.0</td>\n",
              "      <td>-8.0</td>\n",
              "      <td>-30.0</td>\n",
              "      <td>-27.0</td>\n",
              "      <td>-128.0</td>\n",
              "      <td>-22.0</td>\n",
              "      <td>-3.0</td>\n",
              "      <td>-5.0</td>\n",
              "      <td>-8.0</td>\n",
              "      <td>0.0</td>\n",
              "      <td>25.0</td>\n",
              "      <td>-9.0</td>\n",
              "      <td>-28.0</td>\n",
              "      <td>2.0</td>\n",
              "      <td>-22.0</td>\n",
              "      <td>8.0</td>\n",
              "      <td>8.0</td>\n",
              "      <td>-2.0</td>\n",
              "      <td>2.0</td>\n",
              "      <td>12.0</td>\n",
              "      <td>53.0</td>\n",
              "      <td>20.0</td>\n",
              "      <td>28.0</td>\n",
              "      <td>-9.0</td>\n",
              "      <td>-5.0</td>\n",
              "      <td>-5.0</td>\n",
              "      <td>-7.0</td>\n",
              "      <td>-7.0</td>\n",
              "      <td>-54.0</td>\n",
              "      <td>-38.0</td>\n",
              "      <td>-11.0</td>\n",
              "      <td>4.0</td>\n",
              "      <td>7.0</td>\n",
              "      <td>11.0</td>\n",
              "      <td>33.0</td>\n",
              "      <td>39.0</td>\n",
              "      <td>119.0</td>\n",
              "      <td>43.0</td>\n",
              "      <td>0</td>\n",
              "    </tr>\n",
              "    <tr>\n",
              "      <th>4</th>\n",
              "      <td>6.0</td>\n",
              "      <td>0.0</td>\n",
              "      <td>0.0</td>\n",
              "      <td>-2.0</td>\n",
              "      <td>-14.0</td>\n",
              "      <td>10.0</td>\n",
              "      <td>-51.0</td>\n",
              "      <td>5.0</td>\n",
              "      <td>7.0</td>\n",
              "      <td>0.0</td>\n",
              "      <td>4.0</td>\n",
              "      <td>13.0</td>\n",
              "      <td>13.0</td>\n",
              "      <td>-16.0</td>\n",
              "      <td>-45.0</td>\n",
              "      <td>-7.0</td>\n",
              "      <td>-84.0</td>\n",
              "      <td>-8.0</td>\n",
              "      <td>-3.0</td>\n",
              "      <td>-4.0</td>\n",
              "      <td>-36.0</td>\n",
              "      <td>-26.0</td>\n",
              "      <td>-128.0</td>\n",
              "      <td>-55.0</td>\n",
              "      <td>75.0</td>\n",
              "      <td>3.0</td>\n",
              "      <td>-8.0</td>\n",
              "      <td>-12.0</td>\n",
              "      <td>14.0</td>\n",
              "      <td>12.0</td>\n",
              "      <td>87.0</td>\n",
              "      <td>56.0</td>\n",
              "      <td>-3.0</td>\n",
              "      <td>2.0</td>\n",
              "      <td>0.0</td>\n",
              "      <td>-7.0</td>\n",
              "      <td>4.0</td>\n",
              "      <td>15.0</td>\n",
              "      <td>-13.0</td>\n",
              "      <td>0.0</td>\n",
              "      <td>-15.0</td>\n",
              "      <td>1.0</td>\n",
              "      <td>3.0</td>\n",
              "      <td>8.0</td>\n",
              "      <td>-2.0</td>\n",
              "      <td>-6.0</td>\n",
              "      <td>-55.0</td>\n",
              "      <td>-24.0</td>\n",
              "      <td>1.0</td>\n",
              "      <td>5.0</td>\n",
              "      <td>5.0</td>\n",
              "      <td>2.0</td>\n",
              "      <td>11.0</td>\n",
              "      <td>12.0</td>\n",
              "      <td>60.0</td>\n",
              "      <td>38.0</td>\n",
              "      <td>-35.0</td>\n",
              "      <td>-8.0</td>\n",
              "      <td>2.0</td>\n",
              "      <td>6.0</td>\n",
              "      <td>-13.0</td>\n",
              "      <td>-24.0</td>\n",
              "      <td>-112.0</td>\n",
              "      <td>-69.0</td>\n",
              "      <td>0</td>\n",
              "    </tr>\n",
              "  </tbody>\n",
              "</table>\n",
              "</div>"
            ],
            "text/plain": [
              "      0    1    2    3     4     5  ...    59    60    61     62    63  64\n",
              "0  26.0  4.0  5.0  8.0  -1.0 -13.0  ...   5.0   4.0  -7.0  -59.0  16.0   0\n",
              "1 -47.0 -6.0 -5.0 -7.0  13.0  -1.0  ...   5.0  13.0  21.0  111.0  15.0   0\n",
              "2 -19.0 -8.0 -8.0 -8.0 -21.0  -6.0  ...  -8.0   7.0  21.0  114.0  48.0   0\n",
              "3   2.0  3.0  0.0  2.0   0.0  22.0  ...  11.0  33.0  39.0  119.0  43.0   0\n",
              "4   6.0  0.0  0.0 -2.0 -14.0  10.0  ...   6.0 -13.0 -24.0 -112.0 -69.0   0\n",
              "\n",
              "[5 rows x 65 columns]"
            ]
          },
          "metadata": {},
          "execution_count": 157
        }
      ]
    },
    {
      "cell_type": "code",
      "metadata": {
        "id": "hL3k1DxMY0ua"
      },
      "source": [
        "X = df2.iloc[:,:64].values\n",
        "Y = df2.iloc[:,64].values"
      ],
      "execution_count": null,
      "outputs": []
    },
    {
      "cell_type": "code",
      "metadata": {
        "colab": {
          "base_uri": "https://localhost:8080/",
          "height": 80
        },
        "id": "ChFAKmIIlNg4",
        "outputId": "1432143f-769f-4810-bbeb-8d2216b61695"
      },
      "source": [
        "df4 = df2.copy()\n",
        "from sklearn.decomposition import PCA\n",
        "xtrain,xtest,ytrain,ytest = train_test_split(X,Y,test_size=0.2)\n",
        "pca = PCA(n_components=45)\n",
        "xtrain = pca.fit_transform(xtrain)\n",
        "xtest = pca.transform(xtest)\n",
        "\n",
        "from sklearn.ensemble import RandomForestClassifier\n",
        "from sklearn.svm import SVC\n",
        "clf = SVC().fit(xtrain,ytrain)\n",
        "y_pred = clf.predict(xtest)\n",
        "f1score = (f1_score(ytest, y_pred,average='weighted'))\n",
        "#print(clf.score(xtrain,ytrain))\n",
        "acc = (clf.score(xtest,ytest))\n",
        "RFC_initial = pd.Series({\n",
        "                     'Model_Name': \"RFC_initial\",\n",
        "                     'f1_score':f1score,\n",
        "                     'Accuracy':acc ,\n",
        "                   })\n",
        "score_c = score_c.append(RFC_initial, ignore_index=True)\n",
        "\n",
        "score_c"
      ],
      "execution_count": null,
      "outputs": [
        {
          "output_type": "execute_result",
          "data": {
            "text/html": [
              "<div>\n",
              "<style scoped>\n",
              "    .dataframe tbody tr th:only-of-type {\n",
              "        vertical-align: middle;\n",
              "    }\n",
              "\n",
              "    .dataframe tbody tr th {\n",
              "        vertical-align: top;\n",
              "    }\n",
              "\n",
              "    .dataframe thead th {\n",
              "        text-align: right;\n",
              "    }\n",
              "</style>\n",
              "<table border=\"1\" class=\"dataframe\">\n",
              "  <thead>\n",
              "    <tr style=\"text-align: right;\">\n",
              "      <th></th>\n",
              "      <th>Accuracy</th>\n",
              "      <th>Model_Name</th>\n",
              "      <th>f1_score</th>\n",
              "    </tr>\n",
              "  </thead>\n",
              "  <tbody>\n",
              "    <tr>\n",
              "      <th>0</th>\n",
              "      <td>0.863014</td>\n",
              "      <td>RFC_initial</td>\n",
              "      <td>0.861695</td>\n",
              "    </tr>\n",
              "  </tbody>\n",
              "</table>\n",
              "</div>"
            ],
            "text/plain": [
              "   Accuracy   Model_Name  f1_score\n",
              "0  0.863014  RFC_initial  0.861695"
            ]
          },
          "metadata": {},
          "execution_count": 167
        }
      ]
    },
    {
      "cell_type": "code",
      "metadata": {
        "colab": {
          "base_uri": "https://localhost:8080/"
        },
        "id": "CCLAeB8OnV7I",
        "outputId": "f0279cf9-02c2-4906-a666-8d914ed75ac1"
      },
      "source": [
        "from sklearn.feature_selection import SelectFromModel\n",
        "from sklearn.tree import DecisionTreeClassifier\n",
        "clf = DecisionTreeClassifier()\n",
        "trans = SelectFromModel(clf, threshold=-np.inf, max_features=45)\n",
        "X_trans = trans.fit_transform(X, Y)\n",
        "print(\"We started with {0} features but retained only {1} of them!\".format(X.shape[1] - 1, X_trans.shape[1]))"
      ],
      "execution_count": null,
      "outputs": [
        {
          "output_type": "stream",
          "name": "stdout",
          "text": [
            "We started with 63 features but retained only 45 of them!\n"
          ]
        }
      ]
    },
    {
      "cell_type": "code",
      "metadata": {
        "id": "J5idQTLxn6MP"
      },
      "source": [
        "X_train, X_test, y_train, y_test  = train_test_split(X_trans,Y,test_size=0.15)\n",
        "\n",
        "X_train, X_val, y_train, y_val  = train_test_split(X_train, y_train, test_size=0.176, random_state=1) # 0.176*0.85=0.15"
      ],
      "execution_count": null,
      "outputs": []
    },
    {
      "cell_type": "code",
      "metadata": {
        "colab": {
          "base_uri": "https://localhost:8080/",
          "height": 110
        },
        "id": "RxFvWzI7n9zN",
        "outputId": "3af0114f-3a86-4d45-d127-249c078af249"
      },
      "source": [
        "from sklearn.svm import SVC\n",
        "from sklearn.model_selection import train_test_split \n",
        "clf = SVC().fit(X_train,y_train)\n",
        "# print(clf.score(X_train,y_train))\n",
        "# print(clf.score(X_val,y_val))\n",
        "y_pred = clf.predict(X_val)\n",
        "f1score = (f1_score(y_val, y_pred,average='weighted'))\n",
        "#print(clf.score(xtrain,ytrain))\n",
        "acc = (clf.score(X_val, y_val))\n",
        "SVC_initial = pd.Series({\n",
        "                     'Model_Name': \"SVC_initial\",\n",
        "                     'f1_score':f1score,\n",
        "                     'Accuracy':acc ,\n",
        "                   })\n",
        "score_c = score_c.append(SVC_initial, ignore_index=True)\n",
        "\n",
        "score_c = score_c[['Model_Name', 'f1_score','Accuracy' ]]\n",
        "score_c"
      ],
      "execution_count": null,
      "outputs": [
        {
          "output_type": "execute_result",
          "data": {
            "text/html": [
              "<div>\n",
              "<style scoped>\n",
              "    .dataframe tbody tr th:only-of-type {\n",
              "        vertical-align: middle;\n",
              "    }\n",
              "\n",
              "    .dataframe tbody tr th {\n",
              "        vertical-align: top;\n",
              "    }\n",
              "\n",
              "    .dataframe thead th {\n",
              "        text-align: right;\n",
              "    }\n",
              "</style>\n",
              "<table border=\"1\" class=\"dataframe\">\n",
              "  <thead>\n",
              "    <tr style=\"text-align: right;\">\n",
              "      <th></th>\n",
              "      <th>Model_Name</th>\n",
              "      <th>f1_score</th>\n",
              "      <th>Accuracy</th>\n",
              "    </tr>\n",
              "  </thead>\n",
              "  <tbody>\n",
              "    <tr>\n",
              "      <th>0</th>\n",
              "      <td>RFC_initial</td>\n",
              "      <td>0.861695</td>\n",
              "      <td>0.863014</td>\n",
              "    </tr>\n",
              "    <tr>\n",
              "      <th>1</th>\n",
              "      <td>SVC_initial</td>\n",
              "      <td>0.858636</td>\n",
              "      <td>0.859187</td>\n",
              "    </tr>\n",
              "  </tbody>\n",
              "</table>\n",
              "</div>"
            ],
            "text/plain": [
              "    Model_Name  f1_score  Accuracy\n",
              "0  RFC_initial  0.861695  0.863014\n",
              "1  SVC_initial  0.858636  0.859187"
            ]
          },
          "metadata": {},
          "execution_count": 171
        }
      ]
    },
    {
      "cell_type": "code",
      "metadata": {
        "colab": {
          "base_uri": "https://localhost:8080/"
        },
        "id": "HdwJrzhUpcBS",
        "outputId": "e6778bd0-41e4-4d74-9d12-32fc323cf348"
      },
      "source": [
        "from sklearn.model_selection import GridSearchCV \n",
        "  \n",
        "# defining parameter range \n",
        "param_grid = {'C': [0.1, 1, 10, 100, 1000],  \n",
        "              'gamma': [1, 0.1, 0.01, 0.001, 0.0001], \n",
        "              'kernel': ['rbf']}  \n",
        "  \n",
        "grid_SVC = GridSearchCV(SVC(), param_grid, refit = True, verbose = 1) \n",
        "  \n",
        "# fitting the model for grid search \n",
        "grid_SVC.fit(X_val,y_val) "
      ],
      "execution_count": null,
      "outputs": [
        {
          "output_type": "stream",
          "name": "stdout",
          "text": [
            "Fitting 5 folds for each of 25 candidates, totalling 125 fits\n"
          ]
        },
        {
          "output_type": "stream",
          "name": "stderr",
          "text": [
            "[Parallel(n_jobs=1)]: Using backend SequentialBackend with 1 concurrent workers.\n",
            "[Parallel(n_jobs=1)]: Done 125 out of 125 | elapsed:   48.7s finished\n"
          ]
        },
        {
          "output_type": "execute_result",
          "data": {
            "text/plain": [
              "GridSearchCV(cv=None, error_score=nan,\n",
              "             estimator=SVC(C=1.0, break_ties=False, cache_size=200,\n",
              "                           class_weight=None, coef0=0.0,\n",
              "                           decision_function_shape='ovr', degree=3,\n",
              "                           gamma='scale', kernel='rbf', max_iter=-1,\n",
              "                           probability=False, random_state=None, shrinking=True,\n",
              "                           tol=0.001, verbose=False),\n",
              "             iid='deprecated', n_jobs=None,\n",
              "             param_grid={'C': [0.1, 1, 10, 100, 1000],\n",
              "                         'gamma': [1, 0.1, 0.01, 0.001, 0.0001],\n",
              "                         'kernel': ['rbf']},\n",
              "             pre_dispatch='2*n_jobs', refit=True, return_train_score=False,\n",
              "             scoring=None, verbose=1)"
            ]
          },
          "metadata": {},
          "execution_count": 172
        }
      ]
    },
    {
      "cell_type": "code",
      "metadata": {
        "colab": {
          "base_uri": "https://localhost:8080/"
        },
        "id": "1xWUeDXvpe9s",
        "outputId": "78a52d69-4f28-471d-9139-ff01d72e7b01"
      },
      "source": [
        "# print best parameter after tuning \n",
        "print(grid_SVC.best_params_) \n",
        "  \n",
        "# print how our model looks after hyper-parameter tuning \n",
        "print(grid_SVC.best_estimator_) "
      ],
      "execution_count": null,
      "outputs": [
        {
          "output_type": "stream",
          "name": "stdout",
          "text": [
            "{'C': 10, 'gamma': 0.0001, 'kernel': 'rbf'}\n",
            "SVC(C=10, break_ties=False, cache_size=200, class_weight=None, coef0=0.0,\n",
            "    decision_function_shape='ovr', degree=3, gamma=0.0001, kernel='rbf',\n",
            "    max_iter=-1, probability=False, random_state=None, shrinking=True,\n",
            "    tol=0.001, verbose=False)\n"
          ]
        }
      ]
    },
    {
      "cell_type": "code",
      "metadata": {
        "colab": {
          "base_uri": "https://localhost:8080/",
          "height": 142
        },
        "id": "OTSAfGSCpl5m",
        "outputId": "23664b8d-b412-46ca-93bd-d8a53e563542"
      },
      "source": [
        "y_pred = grid_SVC.predict(X_val) \n",
        "\n",
        "f1score = (f1_score(y_val, y_pred,average='weighted'))\n",
        "#print(clf.score(xtrain,ytrain))\n",
        "acc = (grid_SVC.score(X_val, y_val))\n",
        "SVC_HyperTuning = pd.Series({\n",
        "                     'Model_Name': \"SVC_HyperTuning\",\n",
        "                     'f1_score':f1score,\n",
        "                     'Accuracy':acc ,\n",
        "                   })\n",
        "score_c = score_c.append(SVC_HyperTuning, ignore_index=True)\n",
        "\n",
        "score_c = score_c[['Model_Name', 'f1_score','Accuracy' ]]\n",
        "score_c"
      ],
      "execution_count": null,
      "outputs": [
        {
          "output_type": "execute_result",
          "data": {
            "text/html": [
              "<div>\n",
              "<style scoped>\n",
              "    .dataframe tbody tr th:only-of-type {\n",
              "        vertical-align: middle;\n",
              "    }\n",
              "\n",
              "    .dataframe tbody tr th {\n",
              "        vertical-align: top;\n",
              "    }\n",
              "\n",
              "    .dataframe thead th {\n",
              "        text-align: right;\n",
              "    }\n",
              "</style>\n",
              "<table border=\"1\" class=\"dataframe\">\n",
              "  <thead>\n",
              "    <tr style=\"text-align: right;\">\n",
              "      <th></th>\n",
              "      <th>Model_Name</th>\n",
              "      <th>f1_score</th>\n",
              "      <th>Accuracy</th>\n",
              "    </tr>\n",
              "  </thead>\n",
              "  <tbody>\n",
              "    <tr>\n",
              "      <th>0</th>\n",
              "      <td>RFC_initial</td>\n",
              "      <td>0.861695</td>\n",
              "      <td>0.863014</td>\n",
              "    </tr>\n",
              "    <tr>\n",
              "      <th>1</th>\n",
              "      <td>SVC_initial</td>\n",
              "      <td>0.858636</td>\n",
              "      <td>0.859187</td>\n",
              "    </tr>\n",
              "    <tr>\n",
              "      <th>2</th>\n",
              "      <td>SVC_HyperTuning</td>\n",
              "      <td>1.000000</td>\n",
              "      <td>1.000000</td>\n",
              "    </tr>\n",
              "  </tbody>\n",
              "</table>\n",
              "</div>"
            ],
            "text/plain": [
              "        Model_Name  f1_score  Accuracy\n",
              "0      RFC_initial  0.861695  0.863014\n",
              "1      SVC_initial  0.858636  0.859187\n",
              "2  SVC_HyperTuning  1.000000  1.000000"
            ]
          },
          "metadata": {},
          "execution_count": 174
        }
      ]
    },
    {
      "cell_type": "code",
      "metadata": {
        "colab": {
          "base_uri": "https://localhost:8080/"
        },
        "id": "v3b6BEf0qJ4p",
        "outputId": "ef1c5427-cafa-4048-a68b-cbca6bb7a4ca"
      },
      "source": [
        "from sklearn.tree import DecisionTreeClassifier \n",
        "clf = DecisionTreeClassifier()\n",
        "dtree_model = clf.fit(X_train, y_train) \n",
        "print(clf.score(X_train, y_train))"
      ],
      "execution_count": null,
      "outputs": [
        {
          "output_type": "stream",
          "name": "stdout",
          "text": [
            "1.0\n"
          ]
        }
      ]
    },
    {
      "cell_type": "code",
      "metadata": {
        "colab": {
          "base_uri": "https://localhost:8080/",
          "height": 172
        },
        "id": "5CyrxgVaqM0a",
        "outputId": "38c4b409-1847-4c8a-99f1-78c6aa3e8a6e"
      },
      "source": [
        "y_pred = dtree_model.predict(X_val) \n",
        "from sklearn.metrics import f1_score\n",
        "# print(f1_score(y_test, y_pred,average='weighted'))\n",
        "# print(clf.score(X_test, y_test))\n",
        "\n",
        "f1score = (f1_score(y_val, y_pred,average='weighted'))\n",
        "#print(clf.score(xtrain,ytrain))\n",
        "acc = (dtree_model.score(X_val, y_val))\n",
        "DTC_initial = pd.Series({\n",
        "                     'Model_Name': \"DTC_initial\",\n",
        "                     'f1_score':f1score,\n",
        "                     'Accuracy':acc ,\n",
        "                   })\n",
        "score_c = score_c.append(DTC_initial, ignore_index=True)\n",
        "\n",
        "score_c = score_c[['Model_Name', 'f1_score','Accuracy' ]]\n",
        "score_c"
      ],
      "execution_count": null,
      "outputs": [
        {
          "output_type": "execute_result",
          "data": {
            "text/html": [
              "<div>\n",
              "<style scoped>\n",
              "    .dataframe tbody tr th:only-of-type {\n",
              "        vertical-align: middle;\n",
              "    }\n",
              "\n",
              "    .dataframe tbody tr th {\n",
              "        vertical-align: top;\n",
              "    }\n",
              "\n",
              "    .dataframe thead th {\n",
              "        text-align: right;\n",
              "    }\n",
              "</style>\n",
              "<table border=\"1\" class=\"dataframe\">\n",
              "  <thead>\n",
              "    <tr style=\"text-align: right;\">\n",
              "      <th></th>\n",
              "      <th>Model_Name</th>\n",
              "      <th>f1_score</th>\n",
              "      <th>Accuracy</th>\n",
              "    </tr>\n",
              "  </thead>\n",
              "  <tbody>\n",
              "    <tr>\n",
              "      <th>0</th>\n",
              "      <td>RFC_initial</td>\n",
              "      <td>0.861695</td>\n",
              "      <td>0.863014</td>\n",
              "    </tr>\n",
              "    <tr>\n",
              "      <th>1</th>\n",
              "      <td>SVC_initial</td>\n",
              "      <td>0.858636</td>\n",
              "      <td>0.859187</td>\n",
              "    </tr>\n",
              "    <tr>\n",
              "      <th>2</th>\n",
              "      <td>SVC_HyperTuning</td>\n",
              "      <td>1.000000</td>\n",
              "      <td>1.000000</td>\n",
              "    </tr>\n",
              "    <tr>\n",
              "      <th>3</th>\n",
              "      <td>DTC_initial</td>\n",
              "      <td>0.788679</td>\n",
              "      <td>0.787064</td>\n",
              "    </tr>\n",
              "  </tbody>\n",
              "</table>\n",
              "</div>"
            ],
            "text/plain": [
              "        Model_Name  f1_score  Accuracy\n",
              "0      RFC_initial  0.861695  0.863014\n",
              "1      SVC_initial  0.858636  0.859187\n",
              "2  SVC_HyperTuning  1.000000  1.000000\n",
              "3      DTC_initial  0.788679  0.787064"
            ]
          },
          "metadata": {},
          "execution_count": 176
        }
      ]
    },
    {
      "cell_type": "code",
      "metadata": {
        "colab": {
          "base_uri": "https://localhost:8080/"
        },
        "id": "KrEE6qCJqVmP",
        "outputId": "1a80a96d-d1e4-43be-81e4-c0a3af6b168d"
      },
      "source": [
        "from sklearn.model_selection import GridSearchCV \n",
        "from scipy.stats import randint\n",
        "# defining parameter range \n",
        "param_grid = { 'criterion' : ['gini', 'entropy'],\n",
        "              \"max_features\": np.arange(1, 9),\n",
        "              \"min_samples_leaf\": np.arange(1, 9),\n",
        "    'max_depth' : [2,4,6,8,10,12]\n",
        "    }  \n",
        "  \n",
        "grid = GridSearchCV(DecisionTreeClassifier(), param_grid, refit = True, verbose = 1) \n",
        "  \n",
        "# fitting the model for grid search \n",
        "grid.fit(X_val,y_val) "
      ],
      "execution_count": null,
      "outputs": [
        {
          "output_type": "stream",
          "name": "stdout",
          "text": [
            "Fitting 5 folds for each of 768 candidates, totalling 3840 fits\n"
          ]
        },
        {
          "output_type": "stream",
          "name": "stderr",
          "text": [
            "[Parallel(n_jobs=1)]: Using backend SequentialBackend with 1 concurrent workers.\n",
            "[Parallel(n_jobs=1)]: Done 3840 out of 3840 | elapsed:   20.6s finished\n"
          ]
        },
        {
          "output_type": "execute_result",
          "data": {
            "text/plain": [
              "GridSearchCV(cv=None, error_score=nan,\n",
              "             estimator=DecisionTreeClassifier(ccp_alpha=0.0, class_weight=None,\n",
              "                                              criterion='gini', max_depth=None,\n",
              "                                              max_features=None,\n",
              "                                              max_leaf_nodes=None,\n",
              "                                              min_impurity_decrease=0.0,\n",
              "                                              min_impurity_split=None,\n",
              "                                              min_samples_leaf=1,\n",
              "                                              min_samples_split=2,\n",
              "                                              min_weight_fraction_leaf=0.0,\n",
              "                                              presort='deprecated',\n",
              "                                              random_state=None,\n",
              "                                              splitter='best'),\n",
              "             iid='deprecated', n_jobs=None,\n",
              "             param_grid={'criterion': ['gini', 'entropy'],\n",
              "                         'max_depth': [2, 4, 6, 8, 10, 12],\n",
              "                         'max_features': array([1, 2, 3, 4, 5, 6, 7, 8]),\n",
              "                         'min_samples_leaf': array([1, 2, 3, 4, 5, 6, 7, 8])},\n",
              "             pre_dispatch='2*n_jobs', refit=True, return_train_score=False,\n",
              "             scoring=None, verbose=1)"
            ]
          },
          "metadata": {},
          "execution_count": 177
        }
      ]
    },
    {
      "cell_type": "code",
      "metadata": {
        "colab": {
          "base_uri": "https://localhost:8080/"
        },
        "id": "jXiWjb_Sqekg",
        "outputId": "5fd5a715-e6ac-481d-c4b4-e48a88675590"
      },
      "source": [
        "# print best parameter after tuning \n",
        "print(grid.best_params_) \n",
        "  \n",
        "# print how our model looks af\"ter hyper-parameter tuning \n",
        "print(grid.best_estimator_) "
      ],
      "execution_count": null,
      "outputs": [
        {
          "output_type": "stream",
          "name": "stdout",
          "text": [
            "{'criterion': 'gini', 'max_depth': 12, 'max_features': 7, 'min_samples_leaf': 4}\n",
            "DecisionTreeClassifier(ccp_alpha=0.0, class_weight=None, criterion='gini',\n",
            "                       max_depth=12, max_features=7, max_leaf_nodes=None,\n",
            "                       min_impurity_decrease=0.0, min_impurity_split=None,\n",
            "                       min_samples_leaf=4, min_samples_split=2,\n",
            "                       min_weight_fraction_leaf=0.0, presort='deprecated',\n",
            "                       random_state=None, splitter='best')\n"
          ]
        }
      ]
    },
    {
      "cell_type": "code",
      "metadata": {
        "colab": {
          "base_uri": "https://localhost:8080/",
          "height": 203
        },
        "id": "OFLWjzaeqxdU",
        "outputId": "d976e836-cff8-43e0-f4b7-ac998a726730"
      },
      "source": [
        "y_pred = grid.predict(X_val) \n",
        "# print(f1_score(y_test, y_pred,average='weighted'))\n",
        "# print(clf.score(X_test, y_test))\n",
        "\n",
        "\n",
        "f1score = (f1_score(y_val, y_pred,average='weighted'))\n",
        "#print(clf.score(xtrain,ytrain))\n",
        "acc = (grid.score(X_val, y_val))\n",
        "DTC_HyperTuning = pd.Series({\n",
        "                     'Model_Name': \"DTC_HyperTuning\",\n",
        "                     'f1_score':f1score,\n",
        "                     'Accuracy':acc ,\n",
        "                   })\n",
        "score_c = score_c.append(DTC_HyperTuning, ignore_index=True)\n",
        "\n",
        "score_c = score_c[['Model_Name', 'f1_score','Accuracy' ]]\n",
        "score_c"
      ],
      "execution_count": null,
      "outputs": [
        {
          "output_type": "execute_result",
          "data": {
            "text/html": [
              "<div>\n",
              "<style scoped>\n",
              "    .dataframe tbody tr th:only-of-type {\n",
              "        vertical-align: middle;\n",
              "    }\n",
              "\n",
              "    .dataframe tbody tr th {\n",
              "        vertical-align: top;\n",
              "    }\n",
              "\n",
              "    .dataframe thead th {\n",
              "        text-align: right;\n",
              "    }\n",
              "</style>\n",
              "<table border=\"1\" class=\"dataframe\">\n",
              "  <thead>\n",
              "    <tr style=\"text-align: right;\">\n",
              "      <th></th>\n",
              "      <th>Model_Name</th>\n",
              "      <th>f1_score</th>\n",
              "      <th>Accuracy</th>\n",
              "    </tr>\n",
              "  </thead>\n",
              "  <tbody>\n",
              "    <tr>\n",
              "      <th>0</th>\n",
              "      <td>RFC_initial</td>\n",
              "      <td>0.861695</td>\n",
              "      <td>0.863014</td>\n",
              "    </tr>\n",
              "    <tr>\n",
              "      <th>1</th>\n",
              "      <td>SVC_initial</td>\n",
              "      <td>0.858636</td>\n",
              "      <td>0.859187</td>\n",
              "    </tr>\n",
              "    <tr>\n",
              "      <th>2</th>\n",
              "      <td>SVC_HyperTuning</td>\n",
              "      <td>1.000000</td>\n",
              "      <td>1.000000</td>\n",
              "    </tr>\n",
              "    <tr>\n",
              "      <th>3</th>\n",
              "      <td>DTC_initial</td>\n",
              "      <td>0.788679</td>\n",
              "      <td>0.787064</td>\n",
              "    </tr>\n",
              "    <tr>\n",
              "      <th>4</th>\n",
              "      <td>DTC_HyperTuning</td>\n",
              "      <td>0.831717</td>\n",
              "      <td>0.832284</td>\n",
              "    </tr>\n",
              "  </tbody>\n",
              "</table>\n",
              "</div>"
            ],
            "text/plain": [
              "        Model_Name  f1_score  Accuracy\n",
              "0      RFC_initial  0.861695  0.863014\n",
              "1      SVC_initial  0.858636  0.859187\n",
              "2  SVC_HyperTuning  1.000000  1.000000\n",
              "3      DTC_initial  0.788679  0.787064\n",
              "4  DTC_HyperTuning  0.831717  0.832284"
            ]
          },
          "metadata": {},
          "execution_count": 180
        }
      ]
    },
    {
      "cell_type": "code",
      "metadata": {
        "colab": {
          "base_uri": "https://localhost:8080/"
        },
        "id": "JyQP-guwq2Jh",
        "outputId": "07212f32-e354-40d7-c170-5e7d92ebe464"
      },
      "source": [
        "#So the best model is SVC_HyperTuning, Checking test scores for this model\n",
        "y_pred = grid_SVC.predict(X_test)\n",
        "print(f1_score(y_test, y_pred,average='weighted'))\n",
        "print(grid_SVC.score(X_test, y_test))\n"
      ],
      "execution_count": null,
      "outputs": [
        {
          "output_type": "stream",
          "name": "stdout",
          "text": [
            "0.82070564920631\n",
            "0.821917808219178\n"
          ]
        }
      ]
    },
    {
      "cell_type": "code",
      "metadata": {
        "id": "XYz_O2dqrBHK"
      },
      "source": [
        "#Accuracy of test set is 80%, which is decent and model is usable"
      ],
      "execution_count": null,
      "outputs": []
    },
    {
      "cell_type": "markdown",
      "metadata": {
        "id": "xa_NEzzmsJNx"
      },
      "source": [
        "## Question 5"
      ]
    },
    {
      "cell_type": "code",
      "metadata": {
        "id": "J5nu7KwTshsw"
      },
      "source": [
        "x_values  = df2.iloc[:,:64].values\n",
        "y_values = df2.iloc[:,64].values"
      ],
      "execution_count": null,
      "outputs": []
    },
    {
      "cell_type": "code",
      "metadata": {
        "id": "4YwPDdPTz1fe"
      },
      "source": [
        "from sklearn.decomposition import PCA\n",
        "loss_list=[]\n",
        "x = np.linalg.norm(X, axis=0)\n",
        "stnd_dev = np.std(x)\n",
        "required_feat = 0\n",
        "\n",
        "for i in range(64):\n",
        "    pca = PCA(n_components=i+1)\n",
        "    X_train_pca = pca.fit_transform(X)\n",
        "    X_projected = pca.inverse_transform(X_train_pca)\n",
        "    loss =  ((X - X_projected) ** 2).mean()\n",
        "    #print(loss)\n",
        "    if ((loss<(0.01*stnd_dev)) & (required_feat==0)):\n",
        "        required_feat = i+1\n",
        "\n",
        "    loss_list.append(loss)"
      ],
      "execution_count": null,
      "outputs": []
    },
    {
      "cell_type": "code",
      "metadata": {
        "colab": {
          "base_uri": "https://localhost:8080/"
        },
        "id": "d6E3dPh20DNo",
        "outputId": "cc59a43d-6ec2-40d7-a157-d923041fd833"
      },
      "source": [
        "print('Features required for given criteria: ', required_feat)"
      ],
      "execution_count": null,
      "outputs": [
        {
          "output_type": "stream",
          "name": "stdout",
          "text": [
            "Features required for given criteria:  48\n"
          ]
        }
      ]
    },
    {
      "cell_type": "code",
      "metadata": {
        "colab": {
          "base_uri": "https://localhost:8080/",
          "height": 279
        },
        "id": "jdGy_PGs0G37",
        "outputId": "1b55cd3e-9833-4259-a0ea-b8416c68f57d"
      },
      "source": [
        "plt.plot(loss_list)\n",
        "plt.xlabel('Number of features')\n",
        "plt.ylabel('RMSE error')\n",
        "plt.xlim(1,64)\n",
        "plt.show()"
      ],
      "execution_count": null,
      "outputs": [
        {
          "output_type": "display_data",
          "data": {
            "image/png": "[encoded data removed]",
            "text/plain": [
              "<Figure size 432x288 with 1 Axes>"
            ]
          },
          "metadata": {
            "needs_background": "light"
          }
        }
      ]
    }
  ]
}